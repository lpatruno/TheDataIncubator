{
 "metadata": {
  "name": "",
  "signature": "sha256:16ab98461a5ccd9c3df350c88c49a7b6079d4040b99c21ab1b324530f7b8e827"
 },
 "nbformat": 3,
 "nbformat_minor": 0,
 "worksheets": [
  {
   "cells": [
    {
     "cell_type": "markdown",
     "metadata": {},
     "source": [
      "# Get the top n tags for all questions"
     ]
    },
    {
     "cell_type": "code",
     "collapsed": false,
     "input": [
      "import numpy as np\n",
      "import pandas as pd\n",
      "import ast\n",
      "import matplotlib.pyplot as plt\n",
      "import seaborn as sns\n",
      "from time import time\n",
      "from __future__ import division\n",
      "\n",
      "from sklearn.cross_validation import train_test_split\n",
      "from sklearn.multiclass import OneVsRestClassifier\n",
      "from sklearn.naive_bayes import BernoulliNB\n",
      "from sklearn.naive_bayes import MultinomialNB\n",
      "from sklearn.svm import LinearSVC"
     ],
     "language": "python",
     "metadata": {},
     "outputs": [],
     "prompt_number": 1
    },
    {
     "cell_type": "markdown",
     "metadata": {},
     "source": [
      "### Read in all the question data"
     ]
    },
    {
     "cell_type": "code",
     "collapsed": false,
     "input": [
      "# Read in questions\n",
      "questions_all = pd.read_csv('tagged_data.csv', index_col=0)\n",
      "questions = questions_all[ ['question'] ].values\n",
      "\n",
      "# Get indices of all questions with question text = 'nan'\n",
      "remove = []\n",
      "for i in range(len(questions)):\n",
      "    if type(questions[i][0]) != str:\n",
      "        remove.append(i)\n",
      "\n",
      "# Remove all nan questions\n",
      "questions_all = questions_all.drop(questions_all.index[remove])\n",
      "\n",
      "# Keep only the questions and the tags\n",
      "questions_all = questions_all[ ['question', 'tags'] ]"
     ],
     "language": "python",
     "metadata": {},
     "outputs": [],
     "prompt_number": 2
    },
    {
     "cell_type": "markdown",
     "metadata": {},
     "source": [
      "###Get frequency distribution of individual tags\n"
     ]
    },
    {
     "cell_type": "code",
     "collapsed": false,
     "input": [
      "question_tag_values = questions_all.values\n",
      "tag_dist = {}\n",
      "\n",
      "for i in range(len(question_tag_values)):\n",
      "    # List of tags\n",
      "    tags = ast.literal_eval(question_tag_values[i][1])\n",
      "    for tag in tags: \n",
      "        if tag in tag_dist:\n",
      "            tag_dist[tag] += 1\n",
      "        else:\n",
      "            tag_dist[tag] = 1\n",
      "            \n",
      "df = pd.DataFrame({'frequency': tag_dist.values()}, index = tag_dist.keys())\n",
      "\n",
      "# Tags ranked by frequency of occurrence across all questions\n",
      "tag_freq_dist = df.sort(['frequency'], ascending = False)"
     ],
     "language": "python",
     "metadata": {},
     "outputs": [],
     "prompt_number": 3
    },
    {
     "cell_type": "code",
     "collapsed": false,
     "input": [
      "def print_freq(freq_dist, top_n = 20):\n",
      "    \"\"\"\n",
      "    Plot a bar graph of the first top_n tags contained in freq_dist.\n",
      "    This should be a sorted pandas df.\n",
      "    \"\"\"\n",
      "    top_n_tags, top_n_freq = freq_dist.head(top_n).index, freq_dist.head(top_n).values\n",
      "    index = np.arange(top_n)\n",
      "    plt.title('Top %d question tags' % top_n)\n",
      "    plt.ylabel('Number of questions labeled by tag')\n",
      "    plt.xlim([-.5, top_n + .5])\n",
      "    plt.xticks(index+.2, top_n_tags, rotation=70)\n",
      "    plt.bar(index, top_n_freq)"
     ],
     "language": "python",
     "metadata": {},
     "outputs": [],
     "prompt_number": 4
    },
    {
     "cell_type": "markdown",
     "metadata": {},
     "source": [
      "### Feature extractor"
     ]
    },
    {
     "cell_type": "code",
     "collapsed": false,
     "input": [
      "class FeatureExtractor():\n",
      "    \n",
      "    def __init__(self, top_tags):\n",
      "        \"\"\"\n",
      "        Initialize FeatureExtractor object by passing pandas df of top n tags\n",
      "        \"\"\"\n",
      "        self.top_tags = top_tags\n",
      "        self.top_tags_dict = {tag:i for i,tag in enumerate(top_tags.index)}\n",
      "        #print 'Initialized FeatureExtractor for top %d tags\\n' % len(top_tags)\n",
      "        \n",
      "    def tags_to_features(self, question_tags):\n",
      "        \"\"\"\n",
      "        Given a list of question tags strings, returns feature vector representation of \n",
      "        the subset of those tags contained in self.top_tags\n",
      "        \"\"\"    \n",
      "        feature_vector = np.zeros(len(self.top_tags))\n",
      "\n",
      "        for tag in question_tags:\n",
      "            if tag in self.top_tags_dict:\n",
      "                feature_vector[self.top_tags_dict[tag]] = 1\n",
      "\n",
      "        return feature_vector\n",
      "    \n",
      "    def features_to_tags(self, features):\n",
      "        \"\"\"\n",
      "        Given a feature representation, return the tags that are found within self.top_tags\n",
      "        \"\"\"\n",
      "        tag_names = self.top_tags.index\n",
      "        tags_found = []\n",
      "        for feat_index in features.nonzero()[0]:\n",
      "            tags_found.append(tag_names[feat_index])\n",
      "\n",
      "        return tags_found\n",
      "    \n",
      "    def text_features(self, question):\n",
      "        \"\"\"\n",
      "        This function accepts a question text and returns a feature vector of the top tags \n",
      "        found in the question text.\n",
      "        \"\"\"\n",
      "        features = np.zeros(len(self.top_tags))\n",
      "\n",
      "        for i,tag in enumerate(self.top_tags.index):\n",
      "            tag_tokens = tag.split()\n",
      "            question_tokens = question.split()\n",
      "            contains = []\n",
      "            for token in tag_tokens:\n",
      "                contains.append(token in question_tokens)\n",
      "\n",
      "            if all(vals == True for vals in contains):\n",
      "                features[i] = 1\n",
      "            #else:\n",
      "            #    features[i] = 0\n",
      "\n",
      "        return features\n",
      "    \n",
      "    def get_training_x_y(self, train_set):\n",
      "        \"\"\"\n",
      "        Given training set of question and tags, returns the feature representation of both the input and output\n",
      "        \"\"\"\n",
      "        n_samples = len(train_set)\n",
      "\n",
      "        x_train = []\n",
      "        y_train = []\n",
      "\n",
      "        for i in range(n_samples):\n",
      "            x_train.append( list(self.text_features(train_set[i][0]))  )\n",
      "            y_train.append( list(self.tags_to_features(train_set[i][1])) )\n",
      "            \n",
      "        x_train = np.array(x_train)\n",
      "        y_train = np.array(y_train)\n",
      "        \n",
      "        return x_train, y_train\n",
      "    \n",
      "    \n",
      "    def get_test_x(self, test_set):\n",
      "        \"\"\"\n",
      "        Given set of questions to test on, return the feature reprsentation of the test_set\n",
      "        \"\"\"\n",
      "        n_samples = len(test_set)\n",
      "        \n",
      "        x_test = []\n",
      "        \n",
      "        for i in range(n_samples):\n",
      "            x_test.append( list(self.text_features(test_set[i][0])) )\n",
      "            \n",
      "        x_test = np.array(x_test)\n",
      "        \n",
      "        return x_test\n",
      "    \n",
      "    def accuracy(self, test_set, classifier_output):\n",
      "        \"\"\"\n",
      "        Accuracy measure via the Jaccard Coefficient\n",
      "        \"\"\"\n",
      "        n_samples = len(test_set)\n",
      "        jaccard_scores = []\n",
      "        \n",
      "        zero_count = 0\n",
      "        \n",
      "        for i in range(n_samples):\n",
      "            y_true = set( np.nonzero(self.tags_to_features(test_set[i][1]))[0] )\n",
      "            y_predict = set( np.nonzero(classifier_output[i])[0] )\n",
      "            \n",
      "            union = y_true.union(y_predict)\n",
      "            intersect = y_true.intersection(y_predict)\n",
      "            \n",
      "            if len(union) > 0:\n",
      "                j_score = len(intersect) / len(union)\n",
      "                jaccard_scores.append(j_score)\n",
      "            else:\n",
      "                zero_count += 1\n",
      "          \n",
      "        return ( sum(jaccard_scores) / len(jaccard_scores), zero_count )"
     ],
     "language": "python",
     "metadata": {},
     "outputs": [],
     "prompt_number": 75
    },
    {
     "cell_type": "markdown",
     "metadata": {},
     "source": [
      "## Test the feature set and create a model"
     ]
    },
    {
     "cell_type": "code",
     "collapsed": false,
     "input": [
      "# Split data into training and test set\n",
      "train, test = train_test_split(questions_all, test_size = 0.1)\n",
      "\n",
      "# Convert tag strings to lists of tags\n",
      "for i in range(len(train)):\n",
      "    train[i][1] = ast.literal_eval(train[i][1])\n",
      "    \n",
      "for i in range(len(test)):\n",
      "    test[i][1] = ast.literal_eval(test[i][1])"
     ],
     "language": "python",
     "metadata": {},
     "outputs": [],
     "prompt_number": 30
    },
    {
     "cell_type": "code",
     "collapsed": false,
     "input": [
      "n_features = 200\n",
      "top_n_tags = tag_freq_dist.head(n_features)\n",
      "\n",
      "# Initialize FeatureExtractor object with top_n_tags\n",
      "feature_extractor = FeatureExtractor(top_n_tags)"
     ],
     "language": "python",
     "metadata": {},
     "outputs": [],
     "prompt_number": 35
    },
    {
     "cell_type": "code",
     "collapsed": false,
     "input": [
      "# Split training data into input and output feature vectors\n",
      "x_train, y_train = feature_extractor.get_training_x_y(train)\n",
      "x_test = feature_extractor.get_test_x(test)"
     ],
     "language": "python",
     "metadata": {},
     "outputs": [],
     "prompt_number": 36
    },
    {
     "cell_type": "code",
     "collapsed": false,
     "input": [
      "# Train a Bernoulli Naive Bayes classifier with the OneVsRest method\n",
      "clf_BernoulliNB = OneVsRestClassifier(BernoulliNB()).fit(x_train, y_train)\n",
      "predicted_labels_BernoulliNB = clf_BernoulliNB.predict( x_test )"
     ],
     "language": "python",
     "metadata": {},
     "outputs": [],
     "prompt_number": 42
    },
    {
     "cell_type": "code",
     "collapsed": false,
     "input": [
      "# Train a Multinomial Naive Bayes classifier with the OneVsRest method\n",
      "clf_MultinomialNB = OneVsRestClassifier(MultinomialNB()).fit(x_train, y_train)\n",
      "predicted_labels_MultinomialNB = clf_MultinomialNB.predict( x_test )"
     ],
     "language": "python",
     "metadata": {},
     "outputs": [],
     "prompt_number": 43
    },
    {
     "cell_type": "code",
     "collapsed": false,
     "input": [
      "# Train a Support Vector Machine with a linear kernel classifier with the OneVsRest method\n",
      "clf_LinearSVC = OneVsRestClassifier(LinearSVC()).fit(x_train, y_train)\n",
      "predicted_labels_LinearSVC = clf_LinearSVC.predict( x_test )"
     ],
     "language": "python",
     "metadata": {},
     "outputs": [],
     "prompt_number": 44
    },
    {
     "cell_type": "code",
     "collapsed": false,
     "input": [
      "# Predict the test set labels\n",
      "j_BernoulliNB, zero_count_BernoulliNB = feature_extractor.accuracy(test, predicted_labels_BernoulliNB)\n",
      "j_MultinomialNB, zero_count_MultinomialNB = feature_extractor.accuracy(test, predicted_labels_MultinomialNB)\n",
      "j_LinearSVC, zero_count_LinearSVC = feature_extractor.accuracy(test, predicted_labels_LinearSVC)"
     ],
     "language": "python",
     "metadata": {},
     "outputs": [],
     "prompt_number": 45
    },
    {
     "cell_type": "code",
     "collapsed": false,
     "input": [
      "print 'Total test count: %d' % len(x_test)\n",
      "print 'Num_features: %d\\n' % n_features\n",
      "print 'Model \\t  zero_count \\t jaccard\\n' \n",
      "\n",
      "print 'Bernoulli:\\t %d   %f' % (zero_count_BernoulliNB, j_BernoulliNB) \n",
      "print 'Multinomial:\\t %d   %f' % (zero_count_MultinomialNB, j_MultinomialNB) \n",
      "print 'LinearSVC:\\t %d   %f' % (zero_count_LinearSVC, j_LinearSVC) "
     ],
     "language": "python",
     "metadata": {},
     "outputs": [
      {
       "output_type": "stream",
       "stream": "stdout",
       "text": [
        "Total test count: 1956\n",
        "Num_features: 200\n",
        "\n",
        "Model \t  zero_count \t jaccard\n",
        "\n",
        "Bernoulli:\t 174   0.113786\n",
        "Multinomial:\t 178   0.112443\n",
        "LinearSVC:\t 204   0.112047\n"
       ]
      }
     ],
     "prompt_number": 57
    },
    {
     "cell_type": "markdown",
     "metadata": {},
     "source": [
      "### Let's run this procedure over some range of n"
     ]
    },
    {
     "cell_type": "code",
     "collapsed": false,
     "input": [
      "model_info = {'num_features': [],\n",
      "              'time_feature_extraction': [],\n",
      "              'bernoulli_nb' : {'time': [], 'zero_count': [], 'jaccard': []},\n",
      "              'multinomial_nb' : {'time': [], 'zero_count': [], 'jaccard': []},\n",
      "              'linear_svc_nb' : {'time': [], 'zero_count': [], 'jaccard': []}\n",
      "              }\n",
      "\n",
      "for n in range(50, 1000, 50):\n",
      "    top_n_tags = tag_freq_dist.head(n)\n",
      "    \n",
      "    # Initialize FeatureExtractor object with top_n_tags\n",
      "    feature_extractor = FeatureExtractor(top_n_tags)\n",
      "    \n",
      "    # Split training data into input and output feature vectors\n",
      "    t0 = time()\n",
      "    x_train, y_train = feature_extractor.get_training_x_y(train)\n",
      "    t_feature_extraction = time() - t0\n",
      "    x_test = feature_extractor.get_test_x(test)\n",
      "    \n",
      "    # Train a Bernoulli Naive Bayes classifier with the OneVsRest method\n",
      "    t0 = time()\n",
      "    clf_BernoulliNB = OneVsRestClassifier(BernoulliNB()).fit(x_train, y_train)\n",
      "    predicted_labels_BernoulliNB = clf_BernoulliNB.predict( x_test )\n",
      "    t_bernoulli_nb = time() - t0\n",
      "\n",
      "    # Train a Multinomial Naive Bayes classifier with the OneVsRest method\n",
      "    t0 = time()\n",
      "    clf_MultinomialNB = OneVsRestClassifier(MultinomialNB()).fit(x_train, y_train)\n",
      "    predicted_labels_MultinomialNB = clf_MultinomialNB.predict( x_test )\n",
      "    t_multinomial_nb = time() - t0\n",
      "\n",
      "    # Train a Support Vector Machine with a linear kernel classifier with the OneVsRest method\n",
      "    t0 = time()\n",
      "    clf_LinearSVC = OneVsRestClassifier(LinearSVC()).fit(x_train, y_train)\n",
      "    predicted_labels_LinearSVC = clf_LinearSVC.predict( x_test )\n",
      "    t_linear_svc = time() - t0\n",
      "\n",
      "    # Predict the test set labels\n",
      "    j_BernoulliNB, zero_count_BernoulliNB = feature_extractor.accuracy(test, predicted_labels_BernoulliNB)\n",
      "    j_MultinomialNB, zero_count_MultinomialNB = feature_extractor.accuracy(test, predicted_labels_MultinomialNB)\n",
      "    j_LinearSVC, zero_count_LinearSVC = feature_extractor.accuracy(test, predicted_labels_LinearSVC)\n",
      "    \n",
      "    # Save the data\n",
      "    model_info['num_features'].append( n )\n",
      "    model_info['time_feature_extraction'].append( t_feature_extraction )\n",
      "    \n",
      "    model_info['bernoulli_nb']['time'].append(t_bernoulli_nb)\n",
      "    model_info['bernoulli_nb']['zero_count'].append(zero_count_BernoulliNB)\n",
      "    model_info['bernoulli_nb']['jaccard'].append(j_BernoulliNB)\n",
      "    \n",
      "    model_info['multinomial_nb']['time'].append(t_multinomial_nb)\n",
      "    model_info['multinomial_nb']['zero_count'].append(zero_count_MultinomialNB)\n",
      "    model_info['multinomial_nb']['jaccard'].append(j_MultinomialNB)\n",
      "    \n",
      "    model_info['linear_svc_nb']['time'].append(t_linear_svc)\n",
      "    model_info['linear_svc_nb']['zero_count'].append(zero_count_LinearSVC)\n",
      "    model_info['linear_svc_nb']['jaccard'].append(j_LinearSVC)\n",
      "    \n",
      "    print 'N:%d   Time feature extraction: %ds' % (n, t_feature_extraction)\n",
      "    print 'Bernoulli:\\t time: %ds   zero: %d   jaccard: %f ' % (t_bernoulli_nb, zero_count_BernoulliNB, j_BernoulliNB)\n",
      "    print 'Multinomial:\\t time: %ds   zero: %d   jaccard: %f ' % (t_multinomial_nb, zero_count_MultinomialNB, j_MultinomialNB)\n",
      "    print 'LinearSVC:\\t time: %ds   zero: %d   jaccard: %f \\n' % (t_linear_svc, zero_count_LinearSVC, j_LinearSVC)"
     ],
     "language": "python",
     "metadata": {},
     "outputs": [
      {
       "output_type": "stream",
       "stream": "stdout",
       "text": [
        "N:50   Time feature extraction: 8s\n",
        "Bernoulli:\t time: 1s   zero: 408   jaccard: 0.069683 \n",
        "Multinomial:\t time: 0s   zero: 417   jaccard: 0.052339 \n",
        "LinearSVC:\t time: 7s   zero: 419   jaccard: 0.059803 \n",
        "\n",
        "N:100   Time feature extraction: 13s"
       ]
      },
      {
       "output_type": "stream",
       "stream": "stdout",
       "text": [
        "\n",
        "Bernoulli:\t time: 5s   zero: 280   jaccard: 0.109127 \n",
        "Multinomial:\t time: 1s   zero: 286   jaccard: 0.096545 \n",
        "LinearSVC:\t time: 14s   zero: 305   jaccard: 0.096033 \n",
        "\n",
        "N:150   Time feature extraction: 19s"
       ]
      },
      {
       "output_type": "stream",
       "stream": "stdout",
       "text": [
        "\n",
        "Bernoulli:\t time: 7s   zero: 215   jaccard: 0.111707 \n",
        "Multinomial:\t time: 3s   zero: 225   jaccard: 0.103605 \n",
        "LinearSVC:\t time: 17s   zero: 247   jaccard: 0.099057 \n",
        "\n",
        "N:200   Time feature extraction: 23s"
       ]
      },
      {
       "output_type": "stream",
       "stream": "stdout",
       "text": [
        "\n",
        "Bernoulli:\t time: 13s   zero: 174   jaccard: 0.113786 \n",
        "Multinomial:\t time: 4s   zero: 178   jaccard: 0.112443 \n",
        "LinearSVC:\t time: 25s   zero: 204   jaccard: 0.112047 \n",
        "\n",
        "N:250   Time feature extraction: 32s"
       ]
      },
      {
       "output_type": "stream",
       "stream": "stdout",
       "text": [
        "\n",
        "Bernoulli:\t time: 21s   zero: 145   jaccard: 0.113629 \n",
        "Multinomial:\t time: 7s   zero: 146   jaccard: 0.118790 \n",
        "LinearSVC:\t time: 28s   zero: 170   jaccard: 0.128839 \n",
        "\n",
        "N:300   Time feature extraction: 38s"
       ]
      },
      {
       "output_type": "stream",
       "stream": "stdout",
       "text": [
        "\n",
        "Bernoulli:\t time: 28s   zero: 135   jaccard: 0.116717 \n",
        "Multinomial:\t time: 13s   zero: 137   jaccard: 0.124135 \n",
        "LinearSVC:\t time: 33s   zero: 159   jaccard: 0.140378 \n",
        "\n",
        "N:350   Time feature extraction: 43s"
       ]
      },
      {
       "output_type": "stream",
       "stream": "stdout",
       "text": [
        "\n",
        "Bernoulli:\t time: 36s   zero: 121   jaccard: 0.113034 \n",
        "Multinomial:\t time: 13s   zero: 123   jaccard: 0.119227 \n",
        "LinearSVC:\t time: 39s   zero: 138   jaccard: 0.142247 \n",
        "\n",
        "N:400   Time feature extraction: 48s"
       ]
      },
      {
       "output_type": "stream",
       "stream": "stdout",
       "text": [
        "\n",
        "Bernoulli:\t time: 49s   zero: 103   jaccard: 0.114893 \n",
        "Multinomial:\t time: 17s   zero: 104   jaccard: 0.122804 \n",
        "LinearSVC:\t time: 39s   zero: 117   jaccard: 0.148626 \n",
        "\n",
        "N:450   Time feature extraction: 52s"
       ]
      },
      {
       "output_type": "stream",
       "stream": "stdout",
       "text": [
        "\n",
        "Bernoulli:\t time: 63s   zero: 91   jaccard: 0.113363 \n",
        "Multinomial:\t time: 21s   zero: 90   jaccard: 0.121495 \n",
        "LinearSVC:\t time: 58s   zero: 100   jaccard: 0.157711 \n",
        "\n",
        "N:500   Time feature extraction: 59s"
       ]
      },
      {
       "output_type": "stream",
       "stream": "stdout",
       "text": [
        "\n",
        "Bernoulli:\t time: 81s   zero: 84   jaccard: 0.112162 \n",
        "Multinomial:\t time: 29s   zero: 83   jaccard: 0.122071 \n",
        "LinearSVC:\t time: 71s   zero: 93   jaccard: 0.167948 \n",
        "\n",
        "N:550   Time feature extraction: 70s"
       ]
      },
      {
       "output_type": "stream",
       "stream": "stdout",
       "text": [
        "\n",
        "Bernoulli:\t time: 104s   zero: 69   jaccard: 0.112028 \n",
        "Multinomial:\t time: 40s   zero: 70   jaccard: 0.122751 \n",
        "LinearSVC:\t time: 83s   zero: 75   jaccard: 0.171794 \n",
        "\n",
        "N:600   Time feature extraction: 86s"
       ]
      },
      {
       "output_type": "stream",
       "stream": "stdout",
       "text": [
        "\n",
        "Bernoulli:\t time: 137s   zero: 62   jaccard: 0.112491 \n",
        "Multinomial:\t time: 44s   zero: 63   jaccard: 0.124367 \n",
        "LinearSVC:\t time: 84s   zero: 67   jaccard: 0.175035 \n",
        "\n",
        "N:650   Time feature extraction: 86s"
       ]
      },
      {
       "output_type": "stream",
       "stream": "stdout",
       "text": [
        "\n",
        "Bernoulli:\t time: 126s   zero: 55   jaccard: 0.110018 \n",
        "Multinomial:\t time: 39s   zero: 55   jaccard: 0.126752 \n",
        "LinearSVC:\t time: 88s   zero: 60   jaccard: 0.183652 \n",
        "\n",
        "N:700   Time feature extraction: 93s"
       ]
      },
      {
       "output_type": "stream",
       "stream": "stdout",
       "text": [
        "\n",
        "Bernoulli:\t time: 185s   zero: 49   jaccard: 0.109259 \n",
        "Multinomial:\t time: 56s   zero: 49   jaccard: 0.128274 \n",
        "LinearSVC:\t time: 93s   zero: 55   jaccard: 0.190018 \n",
        "\n",
        "N:750   Time feature extraction: 97s"
       ]
      },
      {
       "output_type": "stream",
       "stream": "stdout",
       "text": [
        "\n",
        "Bernoulli:\t time: 165s   zero: 44   jaccard: 0.108770 \n",
        "Multinomial:\t time: 53s   zero: 43   jaccard: 0.131060 \n",
        "LinearSVC:\t time: 87s   zero: 50   jaccard: 0.195531 \n",
        "\n",
        "N:800   Time feature extraction: 97s"
       ]
      },
      {
       "output_type": "stream",
       "stream": "stdout",
       "text": [
        "\n",
        "Bernoulli:\t time: 173s   zero: 40   jaccard: 0.105518 \n",
        "Multinomial:\t time: 59s   zero: 39   jaccard: 0.130669 \n",
        "LinearSVC:\t time: 97s   zero: 44   jaccard: 0.198789 \n",
        "\n",
        "N:850   Time feature extraction: 109s"
       ]
      },
      {
       "output_type": "stream",
       "stream": "stdout",
       "text": [
        "\n",
        "Bernoulli:\t time: 215s   zero: 34   jaccard: 0.105516 \n",
        "Multinomial:\t time: 67s   zero: 33   jaccard: 0.128746 \n",
        "LinearSVC:\t time: 102s   zero: 36   jaccard: 0.205569 \n",
        "\n",
        "N:900   Time feature extraction: 114s"
       ]
      },
      {
       "output_type": "stream",
       "stream": "stdout",
       "text": [
        "\n",
        "Bernoulli:\t time: 279s   zero: 27   jaccard: 0.108775 \n",
        "Multinomial:\t time: 83s   zero: 26   jaccard: 0.129615 \n",
        "LinearSVC:\t time: 134s   zero: 24   jaccard: 0.214867 \n",
        "\n",
        "N:950   Time feature extraction: 145s"
       ]
      },
      {
       "output_type": "stream",
       "stream": "stdout",
       "text": [
        "\n",
        "Bernoulli:\t time: 280s   zero: 25   jaccard: 0.109676 \n",
        "Multinomial:\t time: 96s   zero: 24   jaccard: 0.129416 \n",
        "LinearSVC:\t time: 135s   zero: 22   jaccard: 0.219593 \n",
        "\n"
       ]
      }
     ],
     "prompt_number": 63
    },
    {
     "cell_type": "code",
     "collapsed": false,
     "input": [
      "plt.title('Accuracy vs. Number of Tags')\n",
      "plt.xlabel('Number of tags')\n",
      "plt.ylabel('Jaccard Score')\n",
      "plt.plot(model_info['num_features'], model_info['bernoulli_nb']['jaccard'], color='red', label='Bernoulli NB')\n",
      "plt.plot(model_info['num_features'], model_info['multinomial_nb']['jaccard'], color='blue', label='Multinomial NB')\n",
      "plt.plot(model_info['num_features'], model_info['linear_svc_nb']['jaccard'], color='green', label='Linear SVC')\n",
      "plt.legend()"
     ],
     "language": "python",
     "metadata": {},
     "outputs": [
      {
       "metadata": {},
       "output_type": "pyout",
       "prompt_number": 74,
       "text": [
        "<matplotlib.legend.Legend at 0x7f324196b910>"
       ]
      },
      {
       "metadata": {},
       "output_type": "display_data",
       "png": "[encoded data removed]",
       "text": [
        "<matplotlib.figure.Figure at 0x7f3241a22550>"
       ]
      }
     ],
     "prompt_number": 74
    },
    {
     "cell_type": "code",
     "collapsed": false,
     "input": [
      "plt.title('Time to train model vs. Number of Tag Features')\n",
      "plt.xlabel('Number of tags')\n",
      "plt.ylabel('Time (seconds)')\n",
      "plt.plot(model_info['num_features'], model_info['bernoulli_nb']['time'], color='red', label='Bernoulli NB')\n",
      "plt.plot(model_info['num_features'], model_info['multinomial_nb']['time'], color='blue', label='Multinomial NB')\n",
      "plt.plot(model_info['num_features'], model_info['linear_svc_nb']['time'], color='green', label='Linear SVC')\n",
      "plt.legend()"
     ],
     "language": "python",
     "metadata": {},
     "outputs": [
      {
       "metadata": {},
       "output_type": "pyout",
       "prompt_number": 73,
       "text": [
        "<matplotlib.legend.Legend at 0x7f3241a97ed0>"
       ]
      },
      {
       "metadata": {},
       "output_type": "display_data",
       "png": "[encoded data removed]",
       "text": [
        "<matplotlib.figure.Figure at 0x7f3244884690>"
       ]
      }
     ],
     "prompt_number": 73
    },
    {
     "cell_type": "markdown",
     "metadata": {},
     "source": [
      "## Include the most frequent latex expressions as features as well"
     ]
    },
    {
     "cell_type": "code",
     "collapsed": false,
     "input": [
      "def remove_latex_symbols(list_of_latex):\n",
      "    \"\"\"\n",
      "    Given a list of strings of LaTeX expressions, this function returns the list with the\n",
      "    strings in remove_expressions removed from the expressions\n",
      "    \"\"\"\n",
      "    remove_expressions = [\"\\\\(\", \"\\\\)\", \"\\(\", \"\\)\", \"\\\\[\", \"\\\\]\"]\n",
      "    latex_expressions = []\n",
      "\n",
      "    for latex in list_of_latex:\n",
      "        for remove_exp in remove_expressions:\n",
      "            if remove_exp in latex:\n",
      "                latex = latex.replace(remove_exp, '')\n",
      "        latex_expressions.append(latex)\n",
      "\n",
      "    return latex_expressions"
     ],
     "language": "python",
     "metadata": {},
     "outputs": [],
     "prompt_number": 4
    },
    {
     "cell_type": "code",
     "collapsed": false,
     "input": [
      "def get_top_latex_expression(tag, all_questions):\n",
      "    \"\"\"\n",
      "    Given a tag string, this function returns a sorted list of the LaTeX expressions \n",
      "    found in all questions with the particular tag\n",
      "    \"\"\"\n",
      "    keyword_latex = {}\n",
      "\n",
      "    for i in range(all_questions.shape[0]):\n",
      "        # Get list of tags\n",
      "        tags = ast.literal_eval(all_questions.iloc[i]['tags'])\n",
      "\n",
      "        # Check is keyword is in tags\n",
      "        if tag in tags:\n",
      "            latex = ast.literal_eval(all_questions.iloc[i]['latex'])\n",
      "            latex = remove_latex_symbols(latex)\n",
      "            latex_tokens = ' '.join(latex).split()\n",
      "\n",
      "            for j in range(len(latex_tokens)):\n",
      "                exp = latex_tokens[j] \n",
      "                exp = exp.replace('\\\\', '')\n",
      "                exp = exp.replace('/', '')\n",
      "                if exp in keyword_latex:\n",
      "                    keyword_latex[exp] += 1\n",
      "                else:\n",
      "                    keyword_latex[exp] = 1\n",
      "                break\n",
      "                \n",
      "    df = pd.DataFrame({'expression': keyword_latex.keys(), \n",
      "                   'count': keyword_latex.values()})\n",
      "    \n",
      "    return df.sort(['count'], ascending = False)"
     ],
     "language": "python",
     "metadata": {},
     "outputs": [],
     "prompt_number": 5
    },
    {
     "cell_type": "code",
     "collapsed": false,
     "input": [
      "def top_latex_expressions(top_tags, all_questions, n=20):\n",
      "    latex_expressions = []\n",
      "    \n",
      "    for tag in top_tags:\n",
      "        top_expressions = get_top_latex_expression(tag, all_questions).head(n)['expression'].values.tolist()\n",
      "        latex_expressions += top_expressions\n",
      "        \n",
      "    return latex_expressions"
     ],
     "language": "python",
     "metadata": {},
     "outputs": [],
     "prompt_number": 6
    },
    {
     "cell_type": "code",
     "collapsed": false,
     "input": [
      "# Read in questions\n",
      "questions_all = pd.read_csv('tagged_data.csv', index_col=0)\n",
      "questions = questions_all[ ['question'] ].values\n",
      "\n",
      "# Get indices of all questions with question text = 'nan'\n",
      "remove = []\n",
      "for i in range(len(questions)):\n",
      "    if type(questions[i][0]) != str:\n",
      "        remove.append(i)\n",
      "\n",
      "# Remove all nan questions\n",
      "questions_all = questions_all.drop(questions_all.index[remove])"
     ],
     "language": "python",
     "metadata": {},
     "outputs": [],
     "prompt_number": 144
    },
    {
     "cell_type": "code",
     "collapsed": false,
     "input": [
      "n_features = 100\n",
      "top_n_tags = tag_freq_dist.head(n_features)"
     ],
     "language": "python",
     "metadata": {},
     "outputs": [],
     "prompt_number": 11
    },
    {
     "cell_type": "code",
     "collapsed": false,
     "input": [
      "t0 = time()\n",
      "latex_exp = top_latex_expressions(top_n_tags.index.tolist(), questions_all)\n",
      "t1 = time()\n",
      "\n",
      "print 'Time to get top 20 latex expressions for top %d tags: %d s' % (n_features, t1-t0)"
     ],
     "language": "python",
     "metadata": {},
     "outputs": [
      {
       "output_type": "stream",
       "stream": "stdout",
       "text": [
        "Time to get top 20 latex expressions for top 100 tags: 562 s\n"
       ]
      }
     ],
     "prompt_number": 12
    },
    {
     "cell_type": "code",
     "collapsed": false,
     "input": [
      "top_n_latex = latex_exp"
     ],
     "language": "python",
     "metadata": {},
     "outputs": [],
     "prompt_number": 15
    },
    {
     "cell_type": "code",
     "collapsed": false,
     "input": [
      "class FeatureExtractor():\n",
      "    \n",
      "    def __init__(self, top_tags, top_latex):\n",
      "        \"\"\"\n",
      "        Initialize FeatureExtractor\n",
      "        @params\n",
      "            - top_tags = pandas DataFrame of top n tags\n",
      "            - top_latex = python list of top latex expressions associated with each of the top n tags\n",
      "        \"\"\"\n",
      "        self.top_tags = top_tags\n",
      "        self.top_latex = top_latex\n",
      "        \n",
      "        self.top_tags_dict = {tag:i for i,tag in enumerate(top_tags.index)}\n",
      "         \n",
      "        \n",
      "    def text_features(self, question):\n",
      "        \"\"\"\n",
      "        Checks for occurrence of each of self.top_tags in the question text.\n",
      "        @params\n",
      "            question = text of a single WebWork question\n",
      "        @return\n",
      "            features = binomial feature vector representation where features[i] == 1 if \n",
      "                self.top_tags[i] in question\n",
      "        \"\"\"\n",
      "        features = np.zeros(len(self.top_tags))\n",
      "\n",
      "        for i,tag in enumerate(self.top_tags.index):\n",
      "            tag_tokens = tag.split()\n",
      "            question_tokens = question.split()\n",
      "            contains = []\n",
      "            for token in tag_tokens:\n",
      "                contains.append(token in question_tokens)\n",
      "            if all(vals == True for vals in contains):\n",
      "                features[i] = 1\n",
      "                \n",
      "        return features\n",
      "    \n",
      "    def latex_features(self, latex_expressions):\n",
      "        \"\"\"\n",
      "        Check for occurrence of each of self.top_latex in the LaTeX expressions found within the text\n",
      "        @params\n",
      "            latex_expressions = list of LaTeX expressions found within the LaTeX expressions\n",
      "                embedded within the question text\n",
      "        @return\n",
      "            features = binomial feature vector representation where features[i] == 1 if \n",
      "                self.top_latex[i] in the LaTeX expressions embedded within the question text\n",
      "        \"\"\"\n",
      "        features = np.zeros(len(self.top_latex))\n",
      "        \n",
      "        clean_latex = remove_latex_symbols(latex_expressions)\n",
      "        latex_expressions = ' '.join(clean_latex).split()\n",
      "        \n",
      "        for i,exp in enumerate(self.top_latex):\n",
      "            if exp in latex_expressions:\n",
      "                features[i] = 1\n",
      "                \n",
      "        return features\n",
      "    \n",
      "    def text_latex_features(self, question, latex):\n",
      "        \"\"\"\n",
      "        Return a numpy array of concatenation of self.text_features(question) and\n",
      "        self.latex_features(latex)\n",
      "        \"\"\"\n",
      "        text_features = feature_extractor.text_features(question)\n",
      "        latex_features = feature_extractor.latex_features(latex)\n",
      "        features = text_features.tolist() + latex_features.tolist()\n",
      "        \n",
      "        return np.array(features)\n",
      "    \n",
      "    \n",
      "    def tags_to_features(self, tags):\n",
      "        \"\"\"\n",
      "        Given a list of question tags strings, returns feature vector representation of \n",
      "        the subset of those tags contained in self.top_tags\n",
      "        \"\"\"    \n",
      "        output_features = np.zeros(len(self.top_tags))\n",
      "\n",
      "        for tag in tags:\n",
      "            if tag in self.top_tags_dict:\n",
      "                output_features[self.top_tags_dict[tag]] = 1\n",
      "\n",
      "        return output_features\n",
      "    \n",
      "\n",
      "    def features_to_tags(self, features):\n",
      "        \"\"\"\n",
      "        Given a feature representation, return the tags that are found within self.top_tags\n",
      "        \"\"\"\n",
      "        tag_names = self.top_tags.index\n",
      "        tags_found = []\n",
      "        for feat_index in features.nonzero()[0]:\n",
      "            tags_found.append(tag_names[feat_index])\n",
      "\n",
      "        return tags_found\n",
      "    \n",
      "    \n",
      "    def get_training_x_y(self, training_data):\n",
      "        \"\"\"\n",
      "        Given training set of question and tags, returns the feature representation of both the input and output\n",
      "        \"\"\"\n",
      "        n_samples = len(training_data['question'])\n",
      "\n",
      "        x_train = []\n",
      "        y_train = []\n",
      "        \n",
      "        for i in range( n_samples ):\n",
      "            question = training_data['question'][i]\n",
      "            latex = ast.literal_eval( training_data['latex'][i] )\n",
      "            tags = ast.literal_eval( training_data['tags'][i] )\n",
      "\n",
      "            x_feats = self.text_latex_features(question, latex).tolist()\n",
      "            y_feats = self.tags_to_features(tags).tolist()\n",
      "\n",
      "            x_train.append(x_feats)\n",
      "            y_train.append(y_feats)\n",
      "\n",
      "        x_train = np.array(x_train)\n",
      "        y_train = np.array(y_train)\n",
      "        \n",
      "        return x_train, y_train\n",
      "    \n",
      "    \n",
      "    def get_test_x(self, test_data):\n",
      "        \"\"\"\n",
      "        Given set of questions to test on, return the feature reprsentation of the test_set\n",
      "        \"\"\"\n",
      "        n_samples = len(test_data['question'])\n",
      "        \n",
      "        x_test = []\n",
      "        \n",
      "        for i in range(n_samples):\n",
      "            question = test_data['question'][i]\n",
      "            latex = ast.literal_eval( test_data['latex'][i] )\n",
      "            \n",
      "            x_feats = self.text_latex_features(question, latex).tolist()\n",
      "            \n",
      "            x_test.append(x_feats)\n",
      "            \n",
      "        x_test = np.array(x_test)\n",
      "        \n",
      "        return x_test\n",
      "    \n",
      "    \n",
      "    def accuracy(self, test_data, classifier_output):\n",
      "        \"\"\"\n",
      "        Accuracy measure via the Jaccard Coefficient\n",
      "        \"\"\"\n",
      "        n_samples = len(test_data['tags'])\n",
      "        jaccard_scores = []\n",
      "        \n",
      "        zero_count = 0\n",
      "        \n",
      "        for i in range(n_samples):\n",
      "            tags = ast.literal_eval(test_data['tags'][i])\n",
      "            y_true = set( np.nonzero(self.tags_to_features(tags))[0] )\n",
      "            y_predict = set( np.nonzero(classifier_output[i])[0] )\n",
      "            \n",
      "            union = y_true.union(y_predict)\n",
      "            intersect = y_true.intersection(y_predict)\n",
      "            \n",
      "            if len(union) > 0:\n",
      "                j_score = len(intersect) / len(union)\n",
      "                jaccard_scores.append(j_score)\n",
      "            else:\n",
      "                zero_count += 1\n",
      "          \n",
      "        return ( sum(jaccard_scores) / len(jaccard_scores), zero_count )\n",
      "    \n",
      "    \n",
      "    def __remove_latex_symbols(self, list_of_latex):\n",
      "        \"\"\"\n",
      "        Given a list of strings of LaTeX expressions, this function returns \n",
      "        the list with the strings in remove_expressions removed \n",
      "        \"\"\"\n",
      "        remove_expressions = [\"\\\\(\", \"\\\\)\", \"\\(\", \"\\)\", \"\\\\[\", \"\\\\]\"]\n",
      "        latex_expressions = []\n",
      "\n",
      "        for latex in list_of_latex:\n",
      "            for remove_exp in remove_expressions:\n",
      "                if remove_exp in latex:\n",
      "                    latex = latex.replace(remove_exp, '')\n",
      "            latex_expressions.append(latex)\n",
      "\n",
      "        return latex_expressions"
     ],
     "language": "python",
     "metadata": {},
     "outputs": [],
     "prompt_number": 253
    },
    {
     "cell_type": "code",
     "collapsed": false,
     "input": [
      "# Initialize FeatureExtractor  with top 100 tags and associated top latex symbols\n",
      "feature_extractor = FeatureExtractor(top_n_tags, list(set(top_n_latex)))\n",
      "\n",
      "all_data = questions_all[['question', 'tags', 'latex']]\n",
      "\n",
      "# Split data into training and test set\n",
      "train, test = train_test_split(all_data, test_size = 0.1)\n",
      "\n",
      "train = pd.DataFrame(train, columns=['question', 'tags', 'latex'])\n",
      "test = pd.DataFrame(test, columns=['question', 'tags', 'latex'])\n",
      "\n",
      "t0 = time()\n",
      "x_train, y_train = feature_extractor.get_training_x_y(train.to_dict())\n",
      "t1 = time()\n",
      "\n",
      "print 'Feature extraction time training set: %d s' % (t1-t0)\n",
      "\n",
      "t0 = time()\n",
      "x_test = feature_extractor.get_test_x(test.to_dict())\n",
      "t1 = time()\n",
      "\n",
      "print 'Feature extraction time test set: %d s' % (t1-t0)"
     ],
     "language": "python",
     "metadata": {},
     "outputs": [
      {
       "output_type": "stream",
       "stream": "stdout",
       "text": [
        "Feature extraction time training set: 26 s\n",
        "Feature extraction time test set: 2 s"
       ]
      },
      {
       "output_type": "stream",
       "stream": "stdout",
       "text": [
        "\n"
       ]
      }
     ],
     "prompt_number": 255
    },
    {
     "cell_type": "code",
     "collapsed": false,
     "input": [
      "# Train a Support Vector Machine with a linear kernel classifier with the OneVsRest method\n",
      "t0 = time()\n",
      "clf_LinearSVC = OneVsRestClassifier(LinearSVC()).fit(x_train, y_train)\n",
      "t1 = time()\n",
      "\n",
      "print 'Train model time: %d s' % (t1-t0)\n",
      "\n",
      "t0 = time()\n",
      "prediction = clf_LinearSVC.predict( x_test )\n",
      "t1 = time()\n",
      "\n",
      "print 'Test model time: %d s' % (t1-t0)\n",
      "\n",
      "jaccard, zero = feature_extractor.accuracy(test, prediction)\n",
      "\n",
      "print 'Jaccard score: %f,   Zero_count: %d' % (jaccard, zero)"
     ],
     "language": "python",
     "metadata": {},
     "outputs": [
      {
       "output_type": "stream",
       "stream": "stdout",
       "text": [
        "Train model time: 24 s\n",
        "Test model time: 0 s"
       ]
      },
      {
       "output_type": "stream",
       "stream": "stdout",
       "text": [
        "\n",
        "Jaccard score: 0.195113,   Zero_count: 256"
       ]
      },
      {
       "output_type": "stream",
       "stream": "stdout",
       "text": [
        "\n"
       ]
      }
     ],
     "prompt_number": 256
    },
    {
     "cell_type": "code",
     "collapsed": false,
     "input": [],
     "language": "python",
     "metadata": {},
     "outputs": []
    }
   ],
   "metadata": {}
  }
 ]
}