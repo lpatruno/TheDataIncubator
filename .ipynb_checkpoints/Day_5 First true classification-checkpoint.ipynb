{
 "metadata": {
  "name": "",
  "signature": "sha256:99d38b61a0a4201185e5e4d7a3ad6a89b35f5721f43cde5ed8db61e57a9103ba"
 },
 "nbformat": 3,
 "nbformat_minor": 0,
 "worksheets": [
  {
   "cells": [
    {
     "cell_type": "code",
     "collapsed": false,
     "input": [
      "from __future__ import division\n",
      "import numpy as np\n",
      "import pandas as pd \n",
      "from time import time\n",
      "import ast \n",
      "from sklearn.preprocessing import MultiLabelBinarizer\n",
      "from sklearn.pipeline import Pipeline\n",
      "from sklearn.feature_extraction.text import CountVectorizer\n",
      "from sklearn.svm import LinearSVC\n",
      "from sklearn.feature_extraction.text import TfidfTransformer\n",
      "from sklearn.multiclass import OneVsRestClassifier"
     ],
     "language": "python",
     "metadata": {},
     "outputs": [],
     "prompt_number": 1
    },
    {
     "cell_type": "code",
     "collapsed": false,
     "input": [
      "questions_all = pd.read_csv('tagged_data.csv', index_col=0)\n",
      "\n",
      "questions = questions_all['question'].values\n",
      "tags = questions_all['tags'].values"
     ],
     "language": "python",
     "metadata": {},
     "outputs": [],
     "prompt_number": 2
    },
    {
     "cell_type": "code",
     "collapsed": false,
     "input": [
      "n_samples = 5000\n",
      "\n",
      "subset_questions = []\n",
      "subset_tags = []\n",
      "\n",
      "for i in range(n_samples):\n",
      "    subset_questions.append(questions[i])\n",
      "    subset_tags.append(tags[i])\n",
      "\n",
      "for i,tag in enumerate(subset_tags):\n",
      "    subset_tags[i] = ast.literal_eval(tag)"
     ],
     "language": "python",
     "metadata": {},
     "outputs": [],
     "prompt_number": 3
    },
    {
     "cell_type": "code",
     "collapsed": false,
     "input": [
      "# subset_vocab = set of all keywords used within the particular subset of questions\n",
      "subset_vocab = []\n",
      "\n",
      "for tag_list in subset_tags:\n",
      "    for tag in tag_list:\n",
      "        if tag not in subset_vocab:\n",
      "            subset_vocab.append(tag)"
     ],
     "language": "python",
     "metadata": {},
     "outputs": [],
     "prompt_number": 4
    },
    {
     "cell_type": "code",
     "collapsed": false,
     "input": [
      "# X_train = numpy array containing the training questions for the classifier\n",
      "X_train = np.array(subset_questions)\n",
      "\n",
      "# Y_train = list of lists of keyword tag indices fromt the subset_vocab\n",
      "Y_train = []\n",
      "\n",
      "for tag_list in subset_tags:\n",
      "    q_tags = []\n",
      "    for tag in tag_list:\n",
      "        q_tags.append(subset_vocab.index(tag))\n",
      "    Y_train.append(q_tags)\n",
      "    \n",
      "# Y_train = numpy array of lists of keyword tag indices fromt the subset_vocab\n",
      "Y_train = MultiLabelBinarizer().fit_transform(Y_train)"
     ],
     "language": "python",
     "metadata": {},
     "outputs": [],
     "prompt_number": 5
    },
    {
     "cell_type": "code",
     "collapsed": false,
     "input": [
      "start = 5000\n",
      "end = 5100\n",
      "\n",
      "# Some questions to test the data on\n",
      "X_test = np.array( questions[start:end] )\n",
      "\n",
      "# Ground truth tag values\n",
      "y_true_tags = []\n",
      "\n",
      "for i in range(start,end):\n",
      "    y_true_tags.append(ast.literal_eval(tags[i]))\n",
      "             \n",
      "Y_true = np.array( y_true_tags )"
     ],
     "language": "python",
     "metadata": {},
     "outputs": [],
     "prompt_number": 14
    },
    {
     "cell_type": "code",
     "collapsed": false,
     "input": [
      "# this is evil\n",
      "for tag_list in y_true_tags:\n",
      "    for tag in tag_list:\n",
      "        if tag not in subset_vocab:\n",
      "            subset_vocab.append(tag)"
     ],
     "language": "python",
     "metadata": {},
     "outputs": [],
     "prompt_number": 15
    },
    {
     "cell_type": "code",
     "collapsed": false,
     "input": [
      "# Set up the classifier pipeline\n",
      "# TODO play with the CountVectorizer parameters\n",
      "\n",
      "classifier = Pipeline([\n",
      "    ('vectorizer', CountVectorizer(ngram_range=(1,2))),\n",
      "    ('tfidf', TfidfTransformer()),\n",
      "    ('clf', OneVsRestClassifier(LinearSVC()))])"
     ],
     "language": "python",
     "metadata": {},
     "outputs": [],
     "prompt_number": 16
    },
    {
     "cell_type": "code",
     "collapsed": false,
     "input": [
      "# Train the classifier\n",
      "classifier.fit(X_train, Y_train)"
     ],
     "language": "python",
     "metadata": {},
     "outputs": [
      {
       "metadata": {},
       "output_type": "pyout",
       "prompt_number": 18,
       "text": [
        "Pipeline(steps=[('vectorizer', CountVectorizer(analyzer=u'word', binary=False, charset=None,\n",
        "        charset_error=None, decode_error=u'strict',\n",
        "        dtype=<type 'numpy.int64'>, encoding=u'utf-8', input=u'content',\n",
        "        lowercase=True, max_df=1.0, max_features=None, min_df=1,\n",
        "        ngram_range=(1, 2)...lti_class='ovr', penalty='l2',\n",
        "     random_state=None, tol=0.0001, verbose=0),\n",
        "          n_jobs=1))])"
       ]
      }
     ],
     "prompt_number": 18
    },
    {
     "cell_type": "code",
     "collapsed": false,
     "input": [
      "# Run the test questions through the classifier\n",
      "predicted = classifier.predict(X_test)"
     ],
     "language": "python",
     "metadata": {},
     "outputs": [],
     "prompt_number": 19
    },
    {
     "cell_type": "code",
     "collapsed": false,
     "input": [
      "# Get back the indices of the predictions\n",
      "predicted_labels = []\n",
      "\n",
      "for i in range(len(predicted)):\n",
      "    y_predic = []\n",
      "    \n",
      "    for j in range(len(predicted[i])):\n",
      "        if predicted[i][j] == 1:\n",
      "            y_predic.append(j)   \n",
      "            \n",
      "    predicted_labels.append(y_predic)"
     ],
     "language": "python",
     "metadata": {},
     "outputs": [],
     "prompt_number": 20
    },
    {
     "cell_type": "code",
     "collapsed": false,
     "input": [
      "#for i,indices in enumerate(predicted_labels):\n",
      "#    print 'Tags: ' + ', '.join(Y_true[i])\n",
      "#    print 'Predictions: ' + ', '.join([subset_vocab[x] for x in indices]), '\\n'"
     ],
     "language": "python",
     "metadata": {},
     "outputs": [],
     "prompt_number": 23
    },
    {
     "cell_type": "code",
     "collapsed": false,
     "input": [
      "j_scores = []\n",
      "\n",
      "for i in range(len(predicted_labels)):\n",
      "\n",
      "    Y_true_num = [subset_vocab.index(x) for x in Y_true[i]]\n",
      "    A = set(Y_true_num)\n",
      "    B = set(predicted_labels[0])\n",
      "\n",
      "    inter = A.intersection(B)\n",
      "    union = A.union(B)\n",
      "\n",
      "    j_score = len(inter) / len(union)\n",
      "\n",
      "    j_scores.append(j_score)\n",
      "    \n",
      "j_scores = pd.DataFrame(j_scores)"
     ],
     "language": "python",
     "metadata": {},
     "outputs": [],
     "prompt_number": 21
    },
    {
     "cell_type": "code",
     "collapsed": false,
     "input": [
      "j_scores.describe()"
     ],
     "language": "python",
     "metadata": {},
     "outputs": [
      {
       "html": [
        "<div style=\"max-height:1000px;max-width:1500px;overflow:auto;\">\n",
        "<table border=\"1\" class=\"dataframe\">\n",
        "  <thead>\n",
        "    <tr style=\"text-align: right;\">\n",
        "      <th></th>\n",
        "      <th>0</th>\n",
        "    </tr>\n",
        "  </thead>\n",
        "  <tbody>\n",
        "    <tr>\n",
        "      <th>count</th>\n",
        "      <td> 100.000000</td>\n",
        "    </tr>\n",
        "    <tr>\n",
        "      <th>mean</th>\n",
        "      <td>   0.030000</td>\n",
        "    </tr>\n",
        "    <tr>\n",
        "      <th>std</th>\n",
        "      <td>   0.171447</td>\n",
        "    </tr>\n",
        "    <tr>\n",
        "      <th>min</th>\n",
        "      <td>   0.000000</td>\n",
        "    </tr>\n",
        "    <tr>\n",
        "      <th>25%</th>\n",
        "      <td>   0.000000</td>\n",
        "    </tr>\n",
        "    <tr>\n",
        "      <th>50%</th>\n",
        "      <td>   0.000000</td>\n",
        "    </tr>\n",
        "    <tr>\n",
        "      <th>75%</th>\n",
        "      <td>   0.000000</td>\n",
        "    </tr>\n",
        "    <tr>\n",
        "      <th>max</th>\n",
        "      <td>   1.000000</td>\n",
        "    </tr>\n",
        "  </tbody>\n",
        "</table>\n",
        "</div>"
       ],
       "metadata": {},
       "output_type": "pyout",
       "prompt_number": 22,
       "text": [
        "                0\n",
        "count  100.000000\n",
        "mean     0.030000\n",
        "std      0.171447\n",
        "min      0.000000\n",
        "25%      0.000000\n",
        "50%      0.000000\n",
        "75%      0.000000\n",
        "max      1.000000"
       ]
      }
     ],
     "prompt_number": 22
    },
    {
     "cell_type": "code",
     "collapsed": false,
     "input": [
      "j_scores"
     ],
     "language": "python",
     "metadata": {},
     "outputs": [
      {
       "html": [
        "<div style=\"max-height:1000px;max-width:1500px;overflow:auto;\">\n",
        "<table border=\"1\" class=\"dataframe\">\n",
        "  <thead>\n",
        "    <tr style=\"text-align: right;\">\n",
        "      <th></th>\n",
        "    </tr>\n",
        "  </thead>\n",
        "  <tbody>\n",
        "  </tbody>\n",
        "</table>\n",
        "</div>"
       ],
       "metadata": {},
       "output_type": "pyout",
       "prompt_number": 116,
       "text": [
        "Empty DataFrame\n",
        "Columns: []\n",
        "Index: []"
       ]
      }
     ],
     "prompt_number": 116
    },
    {
     "cell_type": "code",
     "collapsed": false,
     "input": [],
     "language": "python",
     "metadata": {},
     "outputs": []
    }
   ],
   "metadata": {}
  }
 ]
}