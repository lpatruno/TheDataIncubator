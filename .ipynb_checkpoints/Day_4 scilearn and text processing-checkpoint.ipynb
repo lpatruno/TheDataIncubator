{
 "metadata": {
  "name": "",
  "signature": "sha256:97240b228c17a3200c959fda372e3677a51a5f8b6539bf9d53a2f1ff909b26e2"
 },
 "nbformat": 3,
 "nbformat_minor": 0,
 "worksheets": [
  {
   "cells": [
    {
     "cell_type": "code",
     "collapsed": false,
     "input": [
      "measurements = [{'city': 'Dubai', 'temperature': 33.},\n",
      "{'city': 'London', 'temperature': 12.},\n",
      "{'city': 'San Fransisco', 'temperature': 18.},]"
     ],
     "language": "python",
     "metadata": {},
     "outputs": [],
     "prompt_number": 2
    },
    {
     "cell_type": "code",
     "collapsed": false,
     "input": [
      "from sklearn.feature_extraction import DictVectorizer"
     ],
     "language": "python",
     "metadata": {},
     "outputs": [],
     "prompt_number": 3
    },
    {
     "cell_type": "code",
     "collapsed": false,
     "input": [
      "vec = DictVectorizer()"
     ],
     "language": "python",
     "metadata": {},
     "outputs": [],
     "prompt_number": 4
    },
    {
     "cell_type": "code",
     "collapsed": false,
     "input": [
      "# A way of encoding the feature from the label\n",
      "# peform a dot product < x_i, y_p > where x_i is the ith row and y_p is the pth (last) column to get the feature of the ith\n",
      "# label\n",
      "vec.fit_transform(measurements).toarray()"
     ],
     "language": "python",
     "metadata": {},
     "outputs": [
      {
       "metadata": {},
       "output_type": "pyout",
       "prompt_number": 6,
       "text": [
        "array([[  1.,   0.,   0.,  33.],\n",
        "       [  0.,   1.,   0.,  12.],\n",
        "       [  0.,   0.,   1.,  18.]])"
       ]
      }
     ],
     "prompt_number": 6
    },
    {
     "cell_type": "code",
     "collapsed": false,
     "input": [
      "# Get back the labels\n",
      "vec.get_feature_names()"
     ],
     "language": "python",
     "metadata": {},
     "outputs": [
      {
       "metadata": {},
       "output_type": "pyout",
       "prompt_number": 29,
       "text": [
        "['city=Dubai', 'city=London', 'city=San Fransisco', 'temperature']"
       ]
      }
     ],
     "prompt_number": 29
    },
    {
     "cell_type": "code",
     "collapsed": false,
     "input": [
      "# Implements both tokenization and occurrence counting in a single class\n",
      "from sklearn.feature_extraction.text import CountVectorizer"
     ],
     "language": "python",
     "metadata": {},
     "outputs": [],
     "prompt_number": 9
    },
    {
     "cell_type": "code",
     "collapsed": false,
     "input": [
      "vectorizer = CountVectorizer(min_df=1)\n",
      "vectorizer"
     ],
     "language": "python",
     "metadata": {},
     "outputs": [
      {
       "metadata": {},
       "output_type": "pyout",
       "prompt_number": 31,
       "text": [
        "CountVectorizer(analyzer=u'word', binary=False, charset=None,\n",
        "        charset_error=None, decode_error=u'strict',\n",
        "        dtype=<type 'numpy.int64'>, encoding=u'utf-8', input=u'content',\n",
        "        lowercase=True, max_df=1.0, max_features=None, min_df=1,\n",
        "        ngram_range=(1, 1), preprocessor=None, stop_words=None,\n",
        "        strip_accents=None, token_pattern=u'(?u)\\\\b\\\\w\\\\w+\\\\b',\n",
        "        tokenizer=None, vocabulary=None)"
       ]
      }
     ],
     "prompt_number": 31
    },
    {
     "cell_type": "code",
     "collapsed": false,
     "input": [
      "# Some math questions to parse and make sense of \n",
      "\n",
      "corpus = [\n",
      "'Find \\(a\\) and \\(b\\) such that the function   \\[ f(x) = \\left$my_brace \\begin{array}{lll} x^2 + $k x + $l & \\mbox{if} & x\\le $c \\cr ax + b & \\mbox{if} & x>$c \\end{array}\\right. \\]  is differentiable everywhere.  \\(a=\\) \\{ans_rule(10)\\}  \\(b=\\) \\{ans_rule(10)\\}',\n",
      "'The  function \\[ f(x) = $pol \\] is decreasing on the interval ( \\{ans_rule(5)\\} , \\{ans_rule(5) \\}  ).  It is increasing on the interval ( \\(-\\infty\\), \\{ans_rule(5) \\} ) and the interval ( \\{ans_rule(5) \\}, \\(\\infty \\)  ).  The function has a local maximum at \\{ans_rule(10) \\}.',\n",
      "'Let \\( f(x) = x \\sin(x) \\).  Find \\( f''(!{$x1}) \\).  (Remember -- radian mode!) \\{ &ans_rule(30) \\}',\n",
      "\"Compute the following limits using L'Hospital's rule if appropriate. Use INF to denote \\(\\infty\\) and MINF to denote \\(-\\infty\\). $PAR \\( \\displaystyle \\lim_{x\\to \\infty} \\frac{\\ln(x^{$aa}-$bb)}{\\ln(x)\\cos(1/x)}\\) =  \\{ ans_rule()\\} $PAR  \\( \\displaystyle \\lim_{x\\to \\infty} \\frac{e^{$bb x}}{e^{$b1 x}-e^{-$b1 x}}\\) =  \\{ ans_rule()\\}\",\n",
      "'Evaluate the limit \\[ \\lim_{ x \\to 0} \\frac {\\tan x } { $a1 x } \\] \\{ans_rule(10) \\}',\n",
      "]"
     ],
     "language": "python",
     "metadata": {},
     "outputs": [],
     "prompt_number": 32
    },
    {
     "cell_type": "code",
     "collapsed": false,
     "input": [
      "# Vectorize the corpus of text\n",
      "X = vectorizer.fit_transform(corpus)"
     ],
     "language": "python",
     "metadata": {},
     "outputs": [],
     "prompt_number": 33
    },
    {
     "cell_type": "code",
     "collapsed": false,
     "input": [
      "# matrix representing the frequency of each term in each question\n",
      "# 5 rows correspong the the 5 questions\n",
      "X.toarray()"
     ],
     "language": "python",
     "metadata": {},
     "outputs": [
      {
       "metadata": {},
       "output_type": "pyout",
       "prompt_number": 35,
       "text": [
        "array([[2, 0, 0, 0, 0, 1, 2, 0, 2, 0, 1, 0, 0, 0, 0, 1, 0, 0, 1, 0, 1, 1,\n",
        "        0, 1, 1, 0, 1, 0, 0, 2, 1, 0, 0, 0, 0, 1, 0, 1, 1, 0, 0, 0, 0, 1,\n",
        "        0, 0, 0, 2, 0, 0, 1, 0, 0, 0, 0, 0, 0, 0, 0, 1, 1, 1, 0, 0, 0, 0],\n",
        "       [1, 0, 0, 0, 0, 1, 5, 0, 0, 1, 0, 0, 0, 0, 0, 0, 1, 0, 0, 0, 0, 0,\n",
        "        0, 0, 0, 0, 2, 1, 0, 0, 0, 1, 0, 2, 3, 2, 1, 0, 0, 0, 0, 0, 0, 0,\n",
        "        0, 1, 1, 0, 0, 0, 0, 2, 0, 1, 0, 0, 0, 0, 0, 0, 0, 5, 0, 0, 0, 0],\n",
        "       [0, 1, 0, 0, 0, 0, 1, 0, 0, 0, 0, 0, 0, 0, 0, 0, 0, 0, 0, 0, 0, 0,\n",
        "        0, 0, 1, 0, 0, 0, 0, 0, 0, 0, 0, 0, 0, 0, 0, 0, 0, 1, 0, 0, 0, 0,\n",
        "        0, 0, 0, 0, 0, 1, 0, 0, 0, 0, 0, 1, 1, 0, 1, 0, 0, 0, 0, 0, 0, 1],\n",
        "       [0, 0, 0, 1, 0, 1, 2, 1, 0, 0, 0, 2, 2, 1, 1, 0, 0, 2, 0, 2, 0, 0,\n",
        "        0, 0, 0, 1, 0, 0, 1, 1, 0, 0, 1, 4, 0, 0, 0, 0, 0, 0, 2, 0, 1, 0,\n",
        "        2, 0, 0, 0, 1, 0, 0, 0, 2, 0, 2, 0, 0, 1, 0, 0, 0, 1, 2, 1, 1, 0],\n",
        "       [1, 0, 1, 0, 1, 0, 1, 0, 0, 0, 0, 0, 0, 0, 0, 0, 0, 0, 0, 0, 0, 0,\n",
        "        1, 0, 0, 0, 0, 0, 0, 0, 0, 0, 0, 0, 0, 0, 0, 0, 0, 0, 1, 1, 0, 0,\n",
        "        0, 0, 0, 0, 0, 0, 0, 0, 0, 0, 1, 0, 0, 0, 0, 0, 0, 1, 0, 0, 0, 0]])"
       ]
      }
     ],
     "prompt_number": 35
    },
    {
     "cell_type": "code",
     "collapsed": false,
     "input": [
      "# exlicitly see the output of the tokenizer on some string\n",
      "# here I just write some random math problem and see what is spits back\n",
      "analyze = vectorizer.build_analyzer()\n",
      "analyze(\"What is the limit of \\( x^2 \\) as \\( x \\) goes to \\( \\infty \\)?\")"
     ],
     "language": "python",
     "metadata": {},
     "outputs": [
      {
       "metadata": {},
       "output_type": "pyout",
       "prompt_number": 36,
       "text": [
        "[u'what', u'is', u'the', u'limit', u'of', u'as', u'goes', u'to', u'infty']"
       ]
      }
     ],
     "prompt_number": 36
    },
    {
     "cell_type": "code",
     "collapsed": false,
     "input": [
      "# Get back all of the features from the fitted data i.e. the 5 questions in the corpus\n",
      "# just print 5 of them so it doesn't kill me screen\n",
      "vectorizer.get_feature_names()[:5]"
     ],
     "language": "python",
     "metadata": {},
     "outputs": [
      {
       "metadata": {},
       "output_type": "pyout",
       "prompt_number": 39,
       "text": [
        "[u'10', u'30', u'a1', u'aa', u'an']"
       ]
      }
     ],
     "prompt_number": 39
    },
    {
     "cell_type": "code",
     "collapsed": false,
     "input": [
      "vectorizer.vocabulary_.get('limit')"
     ],
     "language": "python",
     "metadata": {},
     "outputs": [
      {
       "metadata": {},
       "output_type": "pyout",
       "prompt_number": 21,
       "text": [
        "41"
       ]
      }
     ],
     "prompt_number": 21
    },
    {
     "cell_type": "code",
     "collapsed": false,
     "input": [
      "# explicitly vectorize a new string see what is spits out.\n",
      "# this has nothing to do with math so it should be almost empty\n",
      "vectorizer.transform([\"don't say that\"]).toarray()"
     ],
     "language": "python",
     "metadata": {},
     "outputs": [
      {
       "metadata": {},
       "output_type": "pyout",
       "prompt_number": 40,
       "text": [
        "array([[0, 0, 0, 0, 0, 0, 0, 0, 0, 0, 0, 0, 0, 0, 0, 0, 0, 0, 0, 0, 0, 0,\n",
        "        0, 0, 0, 0, 0, 0, 0, 0, 0, 0, 0, 0, 0, 0, 0, 0, 0, 0, 0, 0, 0, 0,\n",
        "        0, 0, 0, 0, 0, 0, 0, 0, 0, 0, 0, 0, 0, 0, 0, 0, 1, 0, 0, 0, 0, 0]])"
       ]
      }
     ],
     "prompt_number": 40
    },
    {
     "cell_type": "code",
     "collapsed": false,
     "input": [
      "# instead of only looking at occurences of single words, lets also look at 2-grams\n",
      "\n",
      "bigram_vectorizer = CountVectorizer(ngram_range=(1,2), token_pattern=r'\\b\\w+\\b', min_df=1)\n",
      "analyze = bigram_vectorizer.build_analyzer()\n",
      "analyze(\"What is the limit of \\( x^2 \\) as \\( x \\) goes to \\( \\infty \\)?\")"
     ],
     "language": "python",
     "metadata": {},
     "outputs": [
      {
       "metadata": {},
       "output_type": "pyout",
       "prompt_number": 41,
       "text": [
        "[u'what',\n",
        " u'is',\n",
        " u'the',\n",
        " u'limit',\n",
        " u'of',\n",
        " u'x',\n",
        " u'2',\n",
        " u'as',\n",
        " u'x',\n",
        " u'goes',\n",
        " u'to',\n",
        " u'infty',\n",
        " u'what is',\n",
        " u'is the',\n",
        " u'the limit',\n",
        " u'limit of',\n",
        " u'of x',\n",
        " u'x 2',\n",
        " u'2 as',\n",
        " u'as x',\n",
        " u'x goes',\n",
        " u'goes to',\n",
        " u'to infty']"
       ]
      }
     ],
     "prompt_number": 41
    },
    {
     "cell_type": "code",
     "collapsed": false,
     "input": [
      "# create another array that is fit with the 2-grams as well\n",
      "X_2 = bigram_vectorizer.fit_transform(corpus).toarray()\n",
      "X_2"
     ],
     "language": "python",
     "metadata": {},
     "outputs": [
      {
       "metadata": {},
       "output_type": "pyout",
       "prompt_number": 42,
       "text": [
        "array([[0, 0, 0, ..., 0, 0, 0],\n",
        "       [0, 0, 0, ..., 0, 0, 0],\n",
        "       [0, 0, 0, ..., 1, 1, 1],\n",
        "       [0, 0, 1, ..., 0, 0, 0],\n",
        "       [1, 1, 0, ..., 0, 0, 0]])"
       ]
      }
     ],
     "prompt_number": 42
    },
    {
     "cell_type": "code",
     "collapsed": false,
     "input": [
      "from sklearn.feature_extraction.text import TfidfTransformer\n",
      "\n",
      "transformer = TfidfTransformer()\n",
      "\n",
      "transformer"
     ],
     "language": "python",
     "metadata": {},
     "outputs": [
      {
       "metadata": {},
       "output_type": "pyout",
       "prompt_number": 46,
       "text": [
        "TfidfTransformer(norm=u'l2', smooth_idf=True, sublinear_tf=False,\n",
        "         use_idf=True)"
       ]
      }
     ],
     "prompt_number": 46
    },
    {
     "cell_type": "code",
     "collapsed": false,
     "input": [
      "# freq counts where first term always present hence less interested \n",
      "# while the other 2 present less than half the time hence\n",
      "# probably more interesting\n",
      "counts = [[3,0,1],\n",
      "         [2,0,0],\n",
      "         [3,0,0],\n",
      "         [4,0,0],\n",
      "         [3,2,0],\n",
      "         [3,0,2]]"
     ],
     "language": "python",
     "metadata": {},
     "outputs": [],
     "prompt_number": 49
    },
    {
     "cell_type": "code",
     "collapsed": false,
     "input": [
      "# tfidf term frequency inverse document frequency\n",
      "tfidf = transformer.fit_transform(counts)\n",
      "tfidf"
     ],
     "language": "python",
     "metadata": {},
     "outputs": [
      {
       "metadata": {},
       "output_type": "pyout",
       "prompt_number": 50,
       "text": [
        "<6x3 sparse matrix of type '<type 'numpy.float64'>'\n",
        "\twith 9 stored elements in Compressed Sparse Row format>"
       ]
      }
     ],
     "prompt_number": 50
    },
    {
     "cell_type": "code",
     "collapsed": false,
     "input": [
      "# each row normalized to have unit euclidean norm\n",
      "tfidf.toarray()"
     ],
     "language": "python",
     "metadata": {},
     "outputs": [
      {
       "metadata": {},
       "output_type": "pyout",
       "prompt_number": 52,
       "text": [
        "array([[ 0.85151335,  0.        ,  0.52433293],\n",
        "       [ 1.        ,  0.        ,  0.        ],\n",
        "       [ 1.        ,  0.        ,  0.        ],\n",
        "       [ 1.        ,  0.        ,  0.        ],\n",
        "       [ 0.55422893,  0.83236428,  0.        ],\n",
        "       [ 0.63035731,  0.        ,  0.77630514]])"
       ]
      }
     ],
     "prompt_number": 52
    },
    {
     "cell_type": "code",
     "collapsed": false,
     "input": [],
     "language": "python",
     "metadata": {},
     "outputs": []
    },
    {
     "cell_type": "raw",
     "metadata": {},
     "source": []
    }
   ],
   "metadata": {}
  }
 ]
}