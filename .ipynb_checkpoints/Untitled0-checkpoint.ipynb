{
 "metadata": {
  "name": "",
  "signature": "sha256:d1b8996dc2ef1e4551b356794560fda5870a299343e8aba97ed5d99a9d5aab1e"
 },
 "nbformat": 3,
 "nbformat_minor": 0,
 "worksheets": [
  {
   "cells": [
    {
     "cell_type": "code",
     "collapsed": false,
     "input": [
      "import numpy as np\n",
      "import pandas as pd \n",
      "from time import time\n",
      "import ast # Convert string expressions to python objects"
     ],
     "language": "python",
     "metadata": {},
     "outputs": [],
     "prompt_number": 66
    },
    {
     "cell_type": "code",
     "collapsed": false,
     "input": [
      "# Get the keywords\n",
      "\n",
      "key_file = open('keywords.txt', mode='r')\n",
      "keyword_store = key_file.readlines()\n",
      "key_file.close()\n",
      "\n",
      "for i,line in enumerate(keyword_store):\n",
      "    temp = line.replace('\\n', '')\n",
      "    keyword_store[i] = temp.strip()\n",
      " \n",
      "all_keywords = pd.DataFrame(keyword_store, columns=['tags'])\n",
      "\n",
      "print 'Loaded ' + str(all_keywords.shape[0]) + ' keywords into memory'"
     ],
     "language": "python",
     "metadata": {},
     "outputs": [
      {
       "output_type": "stream",
       "stream": "stdout",
       "text": [
        "Loaded 2116 keywords into memory\n"
       ]
      }
     ],
     "prompt_number": 11
    },
    {
     "cell_type": "code",
     "collapsed": false,
     "input": [
      "# Load all question data into memory\n",
      "questions_all = pd.read_csv('tagged_data.csv', index_col=0)\n",
      "#questions = questions_all['question'].values\n",
      "\n",
      "print 'Loaded ' + str(questions_all.shape[0]) + ' tagged questions into memory'"
     ],
     "language": "python",
     "metadata": {},
     "outputs": [
      {
       "output_type": "stream",
       "stream": "stdout",
       "text": [
        "Loaded 19612 questions into memory\n"
       ]
      }
     ],
     "prompt_number": 17
    },
    {
     "cell_type": "markdown",
     "metadata": {},
     "source": [
      "## We need to turn the text labels into numerbers that represent the indices of the keywords in the all_keywords dataframe"
     ]
    },
    {
     "cell_type": "code",
     "collapsed": false,
     "input": [
      "# Great, we need to add a shit ton of keywords to the list as well\n",
      "\n",
      "# More data cleaning necessary"
     ],
     "language": "python",
     "metadata": {},
     "outputs": [],
     "prompt_number": 139
    },
    {
     "cell_type": "code",
     "collapsed": false,
     "input": [
      "# Pick some random subset of questions\n",
      "\n",
      "n = 50\n",
      "rows = np.random.choice(questions_all.index.values, n)\n",
      "subset = questions_all.ix[rows]"
     ],
     "language": "python",
     "metadata": {},
     "outputs": [],
     "prompt_number": 137
    },
    {
     "cell_type": "code",
     "collapsed": false,
     "input": [
      "y_train = []\n",
      "\n",
      "for i in range(n):\n",
      "    q_kl = []\n",
      "    tag_string = subset['tags'].iloc[i]\n",
      "    tag_list = ast.literal_eval(tag_string)\n",
      "    \n",
      "    for tag in tag_list:\n",
      "        index = all_keywords[ all_keywords['tags'] == tag ].index\n",
      "        if index.any(): \n",
      "            q_kl.append(all_keywords[ all_keywords['tags'] == tag ].index[0])\n",
      "        else: \n",
      "            print tag + ' not found in list of keywords'\n",
      "                \n",
      "    \n",
      "    y_train.append(q_kl)\n",
      "    \n",
      "y_train"
     ],
     "language": "python",
     "metadata": {},
     "outputs": [
      {
       "metadata": {},
       "output_type": "pyout",
       "prompt_number": 138,
       "text": [
        "[[332, 328, 1668, 1849],\n",
        " [1795, 859],\n",
        " [989, 1810],\n",
        " [185, 1136, 441, 1923, 1141, 414, 212],\n",
        " [185, 1690],\n",
        " [690, 165],\n",
        " [185, 990, 989],\n",
        " [556, 690],\n",
        " [28],\n",
        " [733, 1262, 1247, 796, 866, 1068, 1258],\n",
        " [785, 1258, 1419, 66],\n",
        " [185, 915, 1082],\n",
        " [649, 660, 653, 28],\n",
        " [185, 508, 1839],\n",
        " [185, 441, 1564],\n",
        " [1431],\n",
        " [185, 414, 1071, 1082],\n",
        " [1795, 1488],\n",
        " [1096, 1836],\n",
        " [793, 289, 1393, 764],\n",
        " [1795, 627, 1655, 1460],\n",
        " [796, 1039, 1777],\n",
        " [690, 823],\n",
        " [67],\n",
        " [513, 414, 1923, 1898],\n",
        " [513, 1497, 1542],\n",
        " [989, 1810],\n",
        " [185, 508, 1718, 1462, 663, 1647, 1145],\n",
        " [185, 1508, 765, 943, 101],\n",
        " [990],\n",
        " [513, 1497, 1542],\n",
        " [1533],\n",
        " [681],\n",
        " [513, 414, 1923, 1898],\n",
        " [1442, 414, 441],\n",
        " [1977, 1359, 1406],\n",
        " [1337],\n",
        " [500],\n",
        " [28],\n",
        " [601, 28],\n",
        " [185, 2085, 1623, 989, 537, 978],\n",
        " [1552, 68, 96],\n",
        " [2110, 690],\n",
        " [513, 1497, 1542],\n",
        " [441, 1303, 701, 796],\n",
        " [989, 1382],\n",
        " [28],\n",
        " [1442, 122, 994, 720, 1567],\n",
        " [796, 887, 341, 273, 390],\n",
        " [185, 414, 940, 1561]]"
       ]
      }
     ],
     "prompt_number": 138
    },
    {
     "cell_type": "code",
     "collapsed": false,
     "input": [
      "x_train = subset['question'].values"
     ],
     "language": "python",
     "metadata": {},
     "outputs": [],
     "prompt_number": 140
    },
    {
     "cell_type": "code",
     "collapsed": false,
     "input": [
      "# Pick some test data to try to predict\n",
      "\n",
      "n = 10\n",
      "rows = np.random.choice(questions_all.index.values, n)\n",
      "\n",
      "x_test = questions_all.ix[rows]['question'].values"
     ],
     "language": "python",
     "metadata": {},
     "outputs": [],
     "prompt_number": 158
    },
    {
     "cell_type": "code",
     "collapsed": false,
     "input": [
      "from sklearn.pipeline import Pipeline\n",
      "from sklearn.feature_extraction.text import CountVectorizer\n",
      "from sklearn.svm import LinearSVC\n",
      "from sklearn.feature_extraction.text import TfidfTransformer\n",
      "from sklearn.multiclass import OneVsRestClassifier"
     ],
     "language": "python",
     "metadata": {},
     "outputs": [],
     "prompt_number": 84
    },
    {
     "cell_type": "code",
     "collapsed": false,
     "input": [
      "classifier = Pipeline([\n",
      "    ('vectorizer', CountVectorizer(ngram_range=(1,2))),\n",
      "    ('tfidf', TfidfTransformer()),\n",
      "    ('clf', OneVsRestClassifier(LinearSVC()))])\n",
      "\n",
      "classifier.fit(x_train, y_train)\n",
      "\n",
      "predicted = classifier.predict(x_test)\n",
      "\n",
      "#for item, labels in zip(X_test, predicted):\n",
      "#    print '%s => %s' % (item, ', '.join(target_names[x] for x in labels))"
     ],
     "language": "python",
     "metadata": {},
     "outputs": [],
     "prompt_number": 159
    },
    {
     "cell_type": "code",
     "collapsed": false,
     "input": [
      "predicted"
     ],
     "language": "python",
     "metadata": {},
     "outputs": [
      {
       "metadata": {},
       "output_type": "pyout",
       "prompt_number": 160,
       "text": [
        "[(185,), (), (), (), (), (), (), (), (), ()]"
       ]
      }
     ],
     "prompt_number": 160
    },
    {
     "cell_type": "code",
     "collapsed": false,
     "input": [
      "x_test[1]"
     ],
     "language": "python",
     "metadata": {},
     "outputs": [
      {
       "metadata": {},
       "output_type": "pyout",
       "prompt_number": 151,
       "text": [
        "'\\\\{ textbook_ref_exact(\"Rogawski ET 2e\", \"2.1\",\"17\") \\\\} Estimate the instantaneous rate of change at the point \\\\(x=$a\\\\) for \\\\(f(x)=\\\\ln x\\\\)  $PAR  ROC = \\\\{ ans_rule(10) \\\\}  END_TEXT  $t1=$a+0.001; $t2=$a+0.0001; $t3=$a-0.001; $t4=$a-0.0001; $roc = Formula(\"(ln(x)-ln($a))/(x-$a)\");  $t=$a+.000001; $solution=$roc->eval(x=>$t);   SOLUTION(EV3(<<\\'END_SOLUTION\\')); $BBOLD Solution:$EBOLD  $PAR  \\\\{begintable(5)\\\\}         \\\\{row(\" x interval \",\" [$a,$t1] \",\" [$a,$t2]\",\"[$t3, $a]\",\" [$t4, $a] \", @firstrow)\\\\}         \\\\{row(\" average ROC\", $roc->eval(x=>$t1),$roc->eval(x=>$t2), $roc->eval(x=>$t3),$roc->eval(x=>$t4), @secondrow)\\\\}         \\\\{endtable()\\\\}'"
       ]
      }
     ],
     "prompt_number": 151
    },
    {
     "cell_type": "code",
     "collapsed": false,
     "input": [],
     "language": "python",
     "metadata": {},
     "outputs": []
    },
    {
     "cell_type": "code",
     "collapsed": false,
     "input": [
      "all_keywords.iloc[185]"
     ],
     "language": "python",
     "metadata": {},
     "outputs": [
      {
       "metadata": {},
       "output_type": "pyout",
       "prompt_number": 152,
       "text": [
        "tags    calculus\n",
        "Name: 185, dtype: object"
       ]
      }
     ],
     "prompt_number": 152
    },
    {
     "cell_type": "code",
     "collapsed": false,
     "input": [],
     "language": "python",
     "metadata": {},
     "outputs": []
    }
   ],
   "metadata": {}
  }
 ]
}