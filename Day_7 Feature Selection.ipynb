{
 "metadata": {
  "name": "",
  "signature": "sha256:b92b01fed9e650857d3dbffead78c5317f040f3559ea7ae2cbd3bd08bb68328d"
 },
 "nbformat": 3,
 "nbformat_minor": 0,
 "worksheets": [
  {
   "cells": [
    {
     "cell_type": "markdown",
     "metadata": {},
     "source": [
      "## Ideas\n",
      "\n",
      "###Feature selection\n",
      "\n",
      "Figure out the n most frequent tags n_freq_tags.\n",
      "\n",
      "        As individual features, consider the binary occurence of tags in problem text for tags in n_freq_tags.\n",
      "\n",
      "For each tag in n_freq_tags, figure out the m most frequent latex symbols tag_most_freq_latex.\n",
      "\n",
      "Let most_freq_latex = union over all tag_most_freq_latex. \n",
      "\n",
      "        As individual features, consider the j most frequent latex expressions in most_freq_latex.\n",
      "        \n"
     ]
    },
    {
     "cell_type": "code",
     "collapsed": false,
     "input": [
      "import numpy as np\n",
      "import pandas as pd\n",
      "import ast"
     ],
     "language": "python",
     "metadata": {},
     "outputs": [],
     "prompt_number": 1
    },
    {
     "cell_type": "code",
     "collapsed": false,
     "input": [
      "all_questions = pd.read_csv('tagged_data.csv')"
     ],
     "language": "python",
     "metadata": {},
     "outputs": [],
     "prompt_number": 2
    },
    {
     "cell_type": "code",
     "collapsed": false,
     "input": [
      "i = 0\n",
      "\n",
      "sample_latex = ast.literal_eval(all_questions.iloc[i]['latex'])\n",
      "sample_question = all_questions.iloc[i]['question']"
     ],
     "language": "python",
     "metadata": {},
     "outputs": [],
     "prompt_number": 3
    },
    {
     "cell_type": "markdown",
     "metadata": {},
     "source": [
      "## Clean up the latex expressions"
     ]
    },
    {
     "cell_type": "code",
     "collapsed": false,
     "input": [
      "remove_expressions = [\"\\\\(\", \"\\\\)\", \"\\(\", \"\\)\", \"\\\\[\", \"\\\\]\"]\n",
      "\n",
      "def remove_latex_symbols(list_of_latex):\n",
      "    latex_expressions = []\n",
      "    \n",
      "    for latex in list_of_latex:\n",
      "        for remove_exp in remove_expressions:\n",
      "            if remove_exp in latex:\n",
      "                latex = latex.replace(remove_exp, '')\n",
      "        latex_expressions.append(latex)\n",
      "    \n",
      "    return latex_expressions"
     ],
     "language": "python",
     "metadata": {},
     "outputs": [],
     "prompt_number": 4
    },
    {
     "cell_type": "code",
     "collapsed": false,
     "input": [
      "print(sample_latex)\n",
      "print(remove_latex_symbols(sample_latex))"
     ],
     "language": "python",
     "metadata": {},
     "outputs": [
      {
       "output_type": "stream",
       "stream": "stdout",
       "text": [
        "[\"\\\\( f'($x1) \\\\)\", '\\\\( f \\\\)', '\\\\( $x1 \\\\)', '\\\\( x \\\\)']\n",
        "[\" f'($x1) \", ' f ', ' $x1 ', ' x ']\n"
       ]
      }
     ],
     "prompt_number": 5
    },
    {
     "cell_type": "code",
     "collapsed": false,
     "input": [
      "for exp in remove_latex_symbols(sample_latex):\n",
      "    print(exp.split())"
     ],
     "language": "python",
     "metadata": {},
     "outputs": [
      {
       "output_type": "stream",
       "stream": "stdout",
       "text": [
        "[\"f'($x1)\"]\n",
        "['f']\n",
        "['$x1']\n",
        "['x']\n"
       ]
      }
     ],
     "prompt_number": 6
    },
    {
     "cell_type": "code",
     "collapsed": false,
     "input": [
      "for i in range(5,6):\n",
      "    sample_latex = ast.literal_eval(all_questions.iloc[i]['latex'])\n",
      "    sample_tags = all_questions.iloc[i]['tags']\n",
      "    clean = remove_latex_symbols(sample_latex)\n",
      "    \n",
      "    for exp in clean:\n",
      "        print(exp.split())\n",
      "        \n",
      "    print"
     ],
     "language": "python",
     "metadata": {},
     "outputs": [
      {
       "output_type": "stream",
       "stream": "stdout",
       "text": [
        "['f']\n",
        "[\"f'\"]\n",
        "['\\\\displaystyle{', 'f(x)=x^2-$a', 'x', '+$b', '}']\n",
        "['f']\n",
        "[\"f'\"]\n",
        "['(a,\\\\infty)']\n",
        "['a=']\n",
        "\n"
       ]
      }
     ],
     "prompt_number": 9
    },
    {
     "cell_type": "code",
     "collapsed": false,
     "input": [
      "def get_top_latex_expression(tag):\n",
      "    \"\"\"\n",
      "    Given a tag string, this function returns a sorted list of the LaTeX expressions \n",
      "    found in all questions with the particular tag\n",
      "    \"\"\"\n",
      "    keyword_latex = {}\n",
      "\n",
      "    for i in range(all_questions.shape[0]):\n",
      "        # Get list of tags\n",
      "        tags = ast.literal_eval(all_questions.iloc[i]['tags'])\n",
      "\n",
      "        # Check is keyword is in tags\n",
      "        if tag in tags:\n",
      "            latex = ast.literal_eval(all_questions.iloc[i]['latex'])\n",
      "            latex = remove_latex_symbols(latex)\n",
      "            latex_tokens = ' '.join(latex).split()\n",
      "\n",
      "            for j in range(len(latex_tokens)):\n",
      "                exp = latex_tokens[j] \n",
      "                exp = exp.replace('\\\\', '')\n",
      "                exp = exp.replace('/', '')\n",
      "                if exp in keyword_latex:\n",
      "                    keyword_latex[exp] += 1\n",
      "                else:\n",
      "                    keyword_latex[exp] = 1\n",
      "                break\n",
      "                \n",
      "    df = pd.DataFrame({'expression': keyword_latex.keys(), \n",
      "                   'count': keyword_latex.values()})\n",
      "    \n",
      "    return df.sort(['count'], ascending = False)"
     ],
     "language": "python",
     "metadata": {},
     "outputs": [],
     "prompt_number": 45
    },
    {
     "cell_type": "code",
     "collapsed": false,
     "input": [
      "top_n = 20\n",
      "df = get_top_latex_expression('trigonometry')\n",
      "\n",
      "print 'Top %d latex expressions for tag: %s' % (top_n, keyword)\n",
      "#df.head(top_n)"
     ],
     "language": "python",
     "metadata": {},
     "outputs": [
      {
       "output_type": "stream",
       "stream": "stdout",
       "text": [
        "Top 20 latex expressions for tag: vector\n"
       ]
      }
     ],
     "prompt_number": 47
    },
    {
     "cell_type": "code",
     "collapsed": false,
     "input": [
      "top_n_trig = get_top_latex_expression('trigonometry').head(top_n)['expression'].values.tolist()"
     ],
     "language": "python",
     "metadata": {},
     "outputs": [],
     "prompt_number": 64
    },
    {
     "cell_type": "code",
     "collapsed": false,
     "input": [
      "top_n_calc = get_top_latex_expression('calculus').head(top_n)['expression'].values.tolist()"
     ],
     "language": "python",
     "metadata": {},
     "outputs": [],
     "prompt_number": 65
    },
    {
     "cell_type": "code",
     "collapsed": false,
     "input": [
      "top_n_trig_calc = top_n_trig + top_n_calc\n",
      "print(top_n_trig_calc)"
     ],
     "language": "python",
     "metadata": {},
     "outputs": [
      {
       "output_type": "stream",
       "stream": "stdout",
       "text": [
        "['f(x)', 'theta', 'x', 'int', 'pi', 'displaystyle', 'sin', 'y', '$q1', \"f'(\", 'cos', 'frac', '+C', '$two[$choice_two]', \"f'(x)\", 'lim_{', 'sin(cos^{-1}($values[$tag1]))', 'sin(sin^{-1}($values[$tag1]))', 't', 'a=$a', 'f(x)', 'displaystyle', 'x', 'y', 'f', 'int', 'displaystyle{', 't', 'infty', 'lim_{', 'vec', 'displaystyleint', 'lim_{x', 'r', \"f'(\", \"f'(x)\", '$a', 'P', \"y'\", 'f(t)']\n"
       ]
      }
     ],
     "prompt_number": 75
    },
    {
     "cell_type": "code",
     "collapsed": false,
     "input": [
      "test = ' '.join(clean).split()\n",
      "test"
     ],
     "language": "python",
     "metadata": {},
     "outputs": [
      {
       "metadata": {},
       "output_type": "pyout",
       "prompt_number": 73,
       "text": [
        "['f',\n",
        " \"f'\",\n",
        " '\\\\displaystyle{',\n",
        " 'f(x)=x^2-$a',\n",
        " 'x',\n",
        " '+$b',\n",
        " '}',\n",
        " 'f',\n",
        " \"f'\",\n",
        " '(a,\\\\infty)',\n",
        " 'a=']"
       ]
      }
     ],
     "prompt_number": 73
    },
    {
     "cell_type": "code",
     "collapsed": false,
     "input": [
      "for exp in top_n_trig_calc:\n",
      "    if exp in test:\n",
      "        print exp"
     ],
     "language": "python",
     "metadata": {},
     "outputs": [
      {
       "output_type": "stream",
       "stream": "stdout",
       "text": [
        "x\n",
        "x\n",
        "f\n"
       ]
      }
     ],
     "prompt_number": 71
    },
    {
     "cell_type": "code",
     "collapsed": false,
     "input": [
      "common_latex = [\"f\", \"f(x)\", \"f'\", \"f'(x)\", \"frac\", \"lim\", \"array\", \"x^2\", \"infty\", \n",
      "                \"sin\", \"cos\", \"f''\", \"tan\", \"\\ln\", \"e^{\", \"sqrt\", \"\\int\", \"dx\", ]\n",
      "\n",
      "def get_features(latex_expression):\n",
      "    features = {}\n",
      "    for exp in common_latex:\n",
      "        features['contains(%s)' % exp] = (exp in latex_expression)\n",
      "    return features"
     ],
     "language": "python",
     "metadata": {},
     "outputs": [],
     "prompt_number": 18
    },
    {
     "cell_type": "code",
     "collapsed": false,
     "input": [
      "for latex in sample_latex:\n",
      "    print(get_features(latex))"
     ],
     "language": "python",
     "metadata": {},
     "outputs": [
      {
       "output_type": "stream",
       "stream": "stdout",
       "text": [
        "{'contains(f)': True, \"contains(f')\": True}\n",
        "{'contains(f)': True, \"contains(f')\": False}\n",
        "{'contains(f)': False, \"contains(f')\": False}\n",
        "{'contains(f)': False, \"contains(f')\": False}\n"
       ]
      }
     ],
     "prompt_number": 20
    },
    {
     "cell_type": "code",
     "collapsed": false,
     "input": [
      "print(sample_question)"
     ],
     "language": "python",
     "metadata": {},
     "outputs": [
      {
       "output_type": "stream",
       "stream": "stdout",
       "text": [
        "Given the following table: EOT  TEXT( &begintable(1+scalar(@input)), &row(\"x\",@input), &row(\"f(x)\",@output), &endtable() ); $len = 1; $INPUTSPACE = M3( qq! \\\\rule{${len}in}{.01in}!,                qq!\\begin{rawhtml}<INPUT TYPE = \"TEXT\" NAME=\"dh\"                   VALUE=\"$dh\">\\end{rawhtml}!,               qq!<INPUT TYPE = \"TEXT\" NAME=\"dh\" VALUE=\"$dh\">!               ); TEXT(EV2(<<EOT)); Calculate the value of \\( f'($x1) \\) = \\{&ans_rule(30)\\} to two places of accuracy. $PAR To obtain more precise information about the value of \\( f \\) near \\( $x1 \\) enter a  new increment value for \\( x \\) here $INPUTSPACE and then press the Submit Answer button. $PAR How will you tell when your increment is small enough to give you a good answer  for the problem?\n"
       ]
      }
     ],
     "prompt_number": 8
    },
    {
     "cell_type": "code",
     "collapsed": false,
     "input": [
      "print(sample_question.split())"
     ],
     "language": "python",
     "metadata": {},
     "outputs": [
      {
       "output_type": "stream",
       "stream": "stdout",
       "text": [
        "['Given', 'the', 'following', 'table:', 'EOT', 'TEXT(', '&begintable(1+scalar(@input)),', '&row(\"x\",@input),', '&row(\"f(x)\",@output),', '&endtable()', ');', '$len', '=', '1;', '$INPUTSPACE', '=', 'M3(', 'qq!', '\\\\\\\\rule{${len}in}{.01in}!,', 'qq!\\\\begin{rawhtml}<INPUT', 'TYPE', '=', '\"TEXT\"', 'NAME=\"dh\"', 'VALUE=\"$dh\">\\\\end{rawhtml}!,', 'qq!<INPUT', 'TYPE', '=', '\"TEXT\"', 'NAME=\"dh\"', 'VALUE=\"$dh\">!', ');', 'TEXT(EV2(<<EOT));', 'Calculate', 'the', 'value', 'of', '\\\\(', \"f'($x1)\", '\\\\)', '=', '\\\\{&ans_rule(30)\\\\}', 'to', 'two', 'places', 'of', 'accuracy.', '$PAR', 'To', 'obtain', 'more', 'precise', 'information', 'about', 'the', 'value', 'of', '\\\\(', 'f', '\\\\)', 'near', '\\\\(', '$x1', '\\\\)', 'enter', 'a', 'new', 'increment', 'value', 'for', '\\\\(', 'x', '\\\\)', 'here', '$INPUTSPACE', 'and', 'then', 'press', 'the', 'Submit', 'Answer', 'button.', '$PAR', 'How', 'will', 'you', 'tell', 'when', 'your', 'increment', 'is', 'small', 'enough', 'to', 'give', 'you', 'a', 'good', 'answer', 'for', 'the', 'problem?']\n"
       ]
      }
     ],
     "prompt_number": 10
    },
    {
     "cell_type": "code",
     "collapsed": false,
     "input": [],
     "language": "python",
     "metadata": {},
     "outputs": []
    }
   ],
   "metadata": {}
  }
 ]
}