{
 "metadata": {
  "name": "",
  "signature": "sha256:0da4bab5df7d7e4369710b5021cbacfea5b19b272c0e96d363e52a885afcf24a"
 },
 "nbformat": 3,
 "nbformat_minor": 0,
 "worksheets": [
  {
   "cells": [
    {
     "cell_type": "code",
     "collapsed": false,
     "input": [
      "import numpy as np\n",
      "import pandas as pd \n",
      "from time import time\n",
      "import ast "
     ],
     "language": "python",
     "metadata": {},
     "outputs": [],
     "prompt_number": 1
    },
    {
     "cell_type": "code",
     "collapsed": false,
     "input": [
      "def get_index(all_keywords, tag):\n",
      "    try:\n",
      "        tag_index = all_keywords[ all_keywords['tags'] == tag ].index[0]\n",
      "        return tag_index\n",
      "    except IndexError:\n",
      "        return None"
     ],
     "language": "python",
     "metadata": {},
     "outputs": [],
     "prompt_number": 13
    },
    {
     "cell_type": "code",
     "collapsed": false,
     "input": [
      "all_keywords = pd.read_csv('all_keywords.txt', index_col=0)\n",
      "print 'Num features: ' + str(all_keywords.shape[0])"
     ],
     "language": "python",
     "metadata": {},
     "outputs": [
      {
       "output_type": "stream",
       "stream": "stdout",
       "text": [
        "Num features: 2334\n"
       ]
      }
     ],
     "prompt_number": 2
    },
    {
     "cell_type": "code",
     "collapsed": false,
     "input": [
      "questions_all = pd.read_csv('tagged_data.csv', index_col=0)\n",
      "\n",
      "tags = questions_all['tags'].values\n",
      "\n",
      "for i,tag in enumerate(tags):\n",
      "    tags[i] = ast.literal_eval(tag)"
     ],
     "language": "python",
     "metadata": {},
     "outputs": [],
     "prompt_number": 7
    },
    {
     "cell_type": "code",
     "collapsed": false,
     "input": [
      "labels = []\n",
      "\n",
      "for i, tag_set in enumerate(tags):\n",
      "    tag_ids = []\n",
      "    for tag in tag_set:\n",
      "        index = get_index(all_keywords, tag)\n",
      "        if index != None:\n",
      "            tag_ids.append(index)\n",
      "    labels.append(tag_ids)"
     ],
     "language": "python",
     "metadata": {},
     "outputs": [],
     "prompt_number": 29
    },
    {
     "cell_type": "code",
     "collapsed": false,
     "input": [
      "from sklearn.preprocessing import MultiLabelBinarizer"
     ],
     "language": "python",
     "metadata": {},
     "outputs": [],
     "prompt_number": 37
    },
    {
     "cell_type": "code",
     "collapsed": false,
     "input": [
      "Y = MultiLabelBinarizer().fit_transform(labels)"
     ],
     "language": "python",
     "metadata": {},
     "outputs": [
      {
       "metadata": {},
       "output_type": "pyout",
       "prompt_number": 31,
       "text": [
        "2249"
       ]
      }
     ],
     "prompt_number": 31
    },
    {
     "cell_type": "code",
     "collapsed": false,
     "input": [
      "keyword_dict = all_keywords.to_dict()['tags']\n",
      "vocab = {}\n",
      "\n",
      "for key in keyword_dict:\n",
      "    new_key = keyword_dict[key]\n",
      "    vocab[new_key] = key"
     ],
     "language": "python",
     "metadata": {},
     "outputs": [],
     "prompt_number": 3
    },
    {
     "cell_type": "code",
     "collapsed": false,
     "input": [],
     "language": "python",
     "metadata": {},
     "outputs": [],
     "prompt_number": 4
    },
    {
     "cell_type": "code",
     "collapsed": false,
     "input": [
      "import numpy as np\n",
      "from sklearn.pipeline import Pipeline\n",
      "from sklearn.feature_extraction.text import CountVectorizer\n",
      "from sklearn.svm import LinearSVC\n",
      "from sklearn.feature_extraction.text import TfidfTransformer\n",
      "from sklearn.multiclass import OneVsRestClassifier"
     ],
     "language": "python",
     "metadata": {},
     "outputs": [],
     "prompt_number": 5
    },
    {
     "cell_type": "code",
     "collapsed": false,
     "input": [
      "questions_all = pd.read_csv('tagged_data.csv', index_col=0)\n",
      "\n",
      "questions = questions_all['question'].values\n",
      "tags = questions_all['tags'].values\n",
      "\n",
      "subset_questions = questions[:100]\n",
      "subset_tags = tags[:100]\n",
      "\n",
      "for i,tag in enumerate(subset_tags):\n",
      "    subset_tags[i] = ast.literal_eval(tag)"
     ],
     "language": "python",
     "metadata": {},
     "outputs": [],
     "prompt_number": 44
    },
    {
     "cell_type": "code",
     "collapsed": false,
     "input": [
      "subset_vocab = []\n",
      "\n",
      "for tag_list in subset_tags:\n",
      "    for tag in tag_list:\n",
      "        if tag not in subset_vocab:\n",
      "            subset_vocab.append(tag)"
     ],
     "language": "python",
     "metadata": {},
     "outputs": [],
     "prompt_number": 45
    },
    {
     "cell_type": "code",
     "collapsed": false,
     "input": [
      "subset_vocab_dict = {}\n",
      "\n",
      "for tag in subset_vocab:\n",
      "    subset_vocab_dict[tag] = subset_vocab.index(tag)"
     ],
     "language": "python",
     "metadata": {},
     "outputs": [],
     "prompt_number": 46
    },
    {
     "cell_type": "code",
     "collapsed": false,
     "input": [
      "X_train = np.array(subset_questions)\n",
      "\n",
      "Y_train = []\n",
      "\n",
      "for tag_list in subset_tags:\n",
      "    q_tags = []\n",
      "    for tag in tag_list:\n",
      "        q_tags.append(subset_vocab_dict[tag])\n",
      "    Y_train.append(q_tags)\n",
      "    \n",
      "y_train = MultiLabelBinarizer().fit_transform(Y_train)"
     ],
     "language": "python",
     "metadata": {},
     "outputs": [],
     "prompt_number": 47
    },
    {
     "cell_type": "code",
     "collapsed": false,
     "input": [
      "X_test = np.array( subset_questions[60:70])"
     ],
     "language": "python",
     "metadata": {},
     "outputs": [],
     "prompt_number": 48
    },
    {
     "cell_type": "code",
     "collapsed": false,
     "input": [
      "classifier = Pipeline([\n",
      "    ('vectorizer', CountVectorizer(ngram_range=(1,2))),\n",
      "    ('tfidf', TfidfTransformer()),\n",
      "    ('clf', OneVsRestClassifier(LinearSVC()))])\n",
      "\n",
      "classifier.fit(X_train, Y_train)"
     ],
     "language": "python",
     "metadata": {},
     "outputs": [
      {
       "metadata": {},
       "output_type": "pyout",
       "prompt_number": 49,
       "text": [
        "Pipeline(steps=[('vectorizer', CountVectorizer(analyzer=u'word', binary=False, charset=None,\n",
        "        charset_error=None, decode_error=u'strict',\n",
        "        dtype=<type 'numpy.int64'>, encoding=u'utf-8', input=u'content',\n",
        "        lowercase=True, max_df=1.0, max_features=None, min_df=1,\n",
        "        ngram_range=(1, 2)...lti_class='ovr', penalty='l2',\n",
        "     random_state=None, tol=0.0001, verbose=0),\n",
        "          n_jobs=1))])"
       ]
      }
     ],
     "prompt_number": 49
    },
    {
     "cell_type": "code",
     "collapsed": false,
     "input": [
      "predicted = classifier.predict(X_test)"
     ],
     "language": "python",
     "metadata": {},
     "outputs": [],
     "prompt_number": 50
    },
    {
     "cell_type": "code",
     "collapsed": false,
     "input": [
      "print X_test[2]\n",
      "\n",
      "print predicted[2]"
     ],
     "language": "python",
     "metadata": {},
     "outputs": [
      {
       "output_type": "stream",
       "stream": "stdout",
       "text": [
        "$PAR Find the first partial derivatives of \\( f(x,y,z) = z \\ \\arctan(\\frac{y}{x}) \\) at the point ($a, $a, $b). $PAR A. \\( \\frac{\\partial f}{\\partial x}($a, $a, $b) = \\) \\{ ans_rule(30) \\} $PAR B. \\( \\frac{\\partial f}{\\partial y}($a, $a, $b) = \\) \\{ ans_rule(30) \\} $PAR C. \\( \\frac{\\partial f}{\\partial z}($a, $a, $b) = \\) \\{ ans_rule(30) \\}\n",
        "(15, 55, 61, 62, 65, 66)\n"
       ]
      }
     ],
     "prompt_number": 65
    },
    {
     "cell_type": "code",
     "collapsed": false,
     "input": [
      "#multivariable\n",
      "#partial derivative\n",
      "\n",
      "print tags[62]\n",
      "\n",
      "for i in predicted[2]:\n",
      "    print subset_vocab[i],' '"
     ],
     "language": "python",
     "metadata": {},
     "outputs": [
      {
       "output_type": "stream",
       "stream": "stdout",
       "text": [
        "['calculus', 'partial', 'derivative partial', 'vector', 'derivative', 'partial derivative', 'multivariable']\n",
        "derivative  \n",
        "multivariable  \n",
        "vector  \n",
        "partial derivative  \n",
        "partial  \n",
        "derivative partial  \n"
       ]
      }
     ],
     "prompt_number": 67
    },
    {
     "cell_type": "code",
     "collapsed": false,
     "input": [
      "X_train = np.array([\"new york is a hell of a town\",\n",
      "                    \"new york was originally dutch\",\n",
      "                    \"the big apple is great\",\n",
      "                    \"new york is also called the big apple\",\n",
      "                    \"nyc is nice\",\n",
      "                    \"people abbreviate new york city as nyc\",\n",
      "                    \"the capital of great britain is london\",\n",
      "                    \"london is in the uk\",\n",
      "                    \"london is in england\",\n",
      "                    \"london is in great britain\",\n",
      "                    \"it rains a lot in london\",\n",
      "                    \"london hosts the british museum\",\n",
      "                    \"new york is great and so is london\",\n",
      "                    \"i like london better than new york\"])\n",
      "y_train = [[0],[0],[0],[0],[0],[0],[1],[1],[1],[1],[1],[1],[0,1],[0,1]]\n",
      "X_test = np.array(['nice day in nyc',\n",
      "                   'welcome to london',\n",
      "                   'hello welcome to new york. enjoy it here and london too'])   \n",
      "target_names = ['New York', 'London']\n",
      "\n",
      "classifier = Pipeline([\n",
      "    ('vectorizer', CountVectorizer(min_n=1,max_n=2)),\n",
      "    ('tfidf', TfidfTransformer()),\n",
      "    ('clf', OneVsRestClassifier(LinearSVC()))])\n",
      "\n",
      "classifier.fit(X_train, y_train)\n",
      "predicted = classifier.predict(X_test)\n",
      "for item, labels in zip(X_test, predicted):\n",
      "    print '%s => %s' % (item, ', '.join(target_names[x] for x in labels))"
     ],
     "language": "python",
     "metadata": {},
     "outputs": []
    }
   ],
   "metadata": {}
  }
 ]
}