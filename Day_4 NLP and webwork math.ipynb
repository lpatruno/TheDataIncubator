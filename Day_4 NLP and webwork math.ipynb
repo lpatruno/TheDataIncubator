{
 "metadata": {
  "name": "",
  "signature": "sha256:bef774b46eeba7c510e0a91f24a8604d65927bdb6fecb4b987d5248efcce9e4b"
 },
 "nbformat": 3,
 "nbformat_minor": 0,
 "worksheets": [
  {
   "cells": [
    {
     "cell_type": "code",
     "collapsed": false,
     "input": [
      "import numpy as np\n",
      "import pandas as pd\n",
      "from time import time"
     ],
     "language": "python",
     "metadata": {},
     "outputs": [],
     "prompt_number": 1
    },
    {
     "cell_type": "code",
     "collapsed": false,
     "input": [
      "questions_all = pd.read_csv('tagged_data.csv')\n",
      "questions = questions_all['question'].values"
     ],
     "language": "python",
     "metadata": {},
     "outputs": [],
     "prompt_number": 2
    },
    {
     "cell_type": "code",
     "collapsed": false,
     "input": [
      "# First hundred, thousand, ten thousand questions\n",
      "hundred = questions[:100]\n",
      "\n",
      "thousand = questions[:1000]\n",
      "\n",
      "ten_thousand = questions[:10000]"
     ],
     "language": "python",
     "metadata": {},
     "outputs": [],
     "prompt_number": 3
    },
    {
     "cell_type": "code",
     "collapsed": false,
     "input": [
      "from sklearn.feature_extraction.text import CountVectorizer"
     ],
     "language": "python",
     "metadata": {},
     "outputs": [],
     "prompt_number": 4
    },
    {
     "cell_type": "code",
     "collapsed": false,
     "input": [
      "# Create vectorizer for the questions text\n",
      "vectorizer = CountVectorizer(min_df=1)\n",
      "\n",
      "ts = time.time()\n",
      "# Count the word occurrences of the first hundred questions\n",
      "X = vectorizer.fit_transform(hundred)\n",
      "te = time.time()\n",
      "print '100 Took ' + str(te-ts) + ' seconds'\n",
      "\n",
      "\n",
      "#X_1000 = vectorizer.fit_transform(thousand)\n",
      "#te = time.time()\n",
      "#print '1000 Took ' + str(te-ts) + ' seconds'\n",
      "\n",
      "\n",
      "#X_10000 = vectorizer.fit_transform(ten_thousand)\n",
      "#te = time.time()\n",
      "#print '10000 Took ' + str(te-ts) + ' seconds'"
     ],
     "language": "python",
     "metadata": {},
     "outputs": [
      {
       "output_type": "stream",
       "stream": "stdout",
       "text": [
        "100 Took 0.00919985771179 seconds\n"
       ]
      }
     ],
     "prompt_number": 12
    },
    {
     "cell_type": "code",
     "collapsed": false,
     "input": [
      "X.toarray()"
     ],
     "language": "python",
     "metadata": {},
     "outputs": [
      {
       "metadata": {},
       "output_type": "pyout",
       "prompt_number": 13,
       "text": [
        "array([[1, 0, 0, ..., 0, 0, 0],\n",
        "       [0, 0, 0, ..., 0, 0, 0],\n",
        "       [0, 0, 0, ..., 0, 0, 0],\n",
        "       ..., \n",
        "       [0, 0, 0, ..., 0, 0, 0],\n",
        "       [0, 0, 0, ..., 0, 0, 0],\n",
        "       [0, 0, 0, ..., 0, 0, 0]])"
       ]
      }
     ],
     "prompt_number": 13
    },
    {
     "cell_type": "code",
     "collapsed": false,
     "input": [
      "bigram_vectorizer = CountVectorizer(ngram_range = (1,2), token_pattern=r'\\b\\w+\\b', min_df=1)\n",
      "\n",
      "X_2 = bigram_vectorizer.fit_transform(hundred).toarray()\n",
      "\n",
      "X_2"
     ],
     "language": "python",
     "metadata": {},
     "outputs": [
      {
       "metadata": {},
       "output_type": "pyout",
       "prompt_number": 17,
       "text": [
        "array([[0, 0, 0, ..., 0, 0, 0],\n",
        "       [0, 0, 0, ..., 0, 0, 0],\n",
        "       [0, 0, 0, ..., 0, 0, 0],\n",
        "       ..., \n",
        "       [0, 0, 0, ..., 0, 0, 0],\n",
        "       [0, 0, 0, ..., 0, 0, 0],\n",
        "       [0, 0, 0, ..., 0, 0, 0]])"
       ]
      }
     ],
     "prompt_number": 17
    },
    {
     "cell_type": "code",
     "collapsed": false,
     "input": [],
     "language": "python",
     "metadata": {},
     "outputs": []
    }
   ],
   "metadata": {}
  }
 ]
}