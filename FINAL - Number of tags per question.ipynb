{
 "metadata": {
  "name": "",
  "signature": "sha256:926e402664870085a880dae863688b0369f2a9793986f1cd174203aea32940ac"
 },
 "nbformat": 3,
 "nbformat_minor": 0,
 "worksheets": [
  {
   "cells": [
    {
     "cell_type": "markdown",
     "metadata": {},
     "source": [
      "#Plots\n",
      "     1. frequency distribution of all tags\n",
      "     2. the top 20 tags\n",
      "     3. the frequency of the top 20 tags against the remaining tags"
     ]
    },
    {
     "cell_type": "code",
     "collapsed": false,
     "input": [
      "import numpy as np\n",
      "import pandas as pd\n",
      "import ast\n",
      "import matplotlib.pyplot as plt\n",
      "import seaborn as sns"
     ],
     "language": "python",
     "metadata": {},
     "outputs": [],
     "prompt_number": 1
    },
    {
     "cell_type": "code",
     "collapsed": false,
     "input": [
      "# Read in questions\n",
      "questions_all = pd.read_csv('tagged_data.csv', index_col=0)\n",
      "questions = questions_all[ ['question'] ].values\n",
      "\n",
      "# Get indices of all questions with question text = 'nan'\n",
      "remove = []\n",
      "\n",
      "for i in range(len(questions)):\n",
      "    if type(questions[i][0]) != str:\n",
      "        remove.append(i)\n",
      "\n",
      "# Remove all nan questions\n",
      "questions_all = questions_all.drop(questions_all.index[remove])\n",
      "\n",
      "# Keep only the questions and the tags\n",
      "questions_all = questions_all[ ['question', 'tags'] ].values"
     ],
     "language": "python",
     "metadata": {},
     "outputs": [],
     "prompt_number": 2
    },
    {
     "cell_type": "code",
     "collapsed": false,
     "input": [
      "tags = []\n",
      "num_tags = []\n",
      "\n",
      "for i in range(len(questions_all)):\n",
      "    tags.append(ast.literal_eval(questions_all[i][1]))\n",
      "    num = len(ast.literal_eval(questions_all[i][1]))\n",
      "    num_tags.append(num)    "
     ],
     "language": "python",
     "metadata": {},
     "outputs": [],
     "prompt_number": 3
    },
    {
     "cell_type": "code",
     "collapsed": false,
     "input": [
      "num_tags = pd.DataFrame({'tags': tags, 'n':num_tags})"
     ],
     "language": "python",
     "metadata": {},
     "outputs": [],
     "prompt_number": 4
    },
    {
     "cell_type": "code",
     "collapsed": false,
     "input": [
      "num_tags.head(10)"
     ],
     "language": "python",
     "metadata": {},
     "outputs": [
      {
       "html": [
        "<div style=\"max-height:1000px;max-width:1500px;overflow:auto;\">\n",
        "<table border=\"1\" class=\"dataframe\">\n",
        "  <thead>\n",
        "    <tr style=\"text-align: right;\">\n",
        "      <th></th>\n",
        "      <th>n</th>\n",
        "      <th>tags</th>\n",
        "    </tr>\n",
        "  </thead>\n",
        "  <tbody>\n",
        "    <tr>\n",
        "      <th>0</th>\n",
        "      <td> 2</td>\n",
        "      <td>                          [calculus, derivatives]</td>\n",
        "    </tr>\n",
        "    <tr>\n",
        "      <th>1</th>\n",
        "      <td> 2</td>\n",
        "      <td>                          [calculus, derivatives]</td>\n",
        "    </tr>\n",
        "    <tr>\n",
        "      <th>2</th>\n",
        "      <td> 3</td>\n",
        "      <td>            [calculus, derivatives, tangent line]</td>\n",
        "    </tr>\n",
        "    <tr>\n",
        "      <th>3</th>\n",
        "      <td> 3</td>\n",
        "      <td> [calculus, derivatives, differentiable function]</td>\n",
        "    </tr>\n",
        "    <tr>\n",
        "      <th>4</th>\n",
        "      <td> 2</td>\n",
        "      <td>                          [calculus, derivatives]</td>\n",
        "    </tr>\n",
        "    <tr>\n",
        "      <th>5</th>\n",
        "      <td> 2</td>\n",
        "      <td>                          [calculus, derivatives]</td>\n",
        "    </tr>\n",
        "    <tr>\n",
        "      <th>6</th>\n",
        "      <td> 2</td>\n",
        "      <td>                          [calculus, derivatives]</td>\n",
        "    </tr>\n",
        "    <tr>\n",
        "      <th>7</th>\n",
        "      <td> 2</td>\n",
        "      <td>                          [calculus, derivatives]</td>\n",
        "    </tr>\n",
        "    <tr>\n",
        "      <th>8</th>\n",
        "      <td> 4</td>\n",
        "      <td>       [calculus, derivatives, mean value, slope]</td>\n",
        "    </tr>\n",
        "    <tr>\n",
        "      <th>9</th>\n",
        "      <td> 2</td>\n",
        "      <td>                [higher derivative, trigonometry]</td>\n",
        "    </tr>\n",
        "  </tbody>\n",
        "</table>\n",
        "</div>"
       ],
       "metadata": {},
       "output_type": "pyout",
       "prompt_number": 16,
       "text": [
        "   n                                              tags\n",
        "0  2                           [calculus, derivatives]\n",
        "1  2                           [calculus, derivatives]\n",
        "2  3             [calculus, derivatives, tangent line]\n",
        "3  3  [calculus, derivatives, differentiable function]\n",
        "4  2                           [calculus, derivatives]\n",
        "5  2                           [calculus, derivatives]\n",
        "6  2                           [calculus, derivatives]\n",
        "7  2                           [calculus, derivatives]\n",
        "8  4        [calculus, derivatives, mean value, slope]\n",
        "9  2                 [higher derivative, trigonometry]"
       ]
      }
     ],
     "prompt_number": 16
    },
    {
     "cell_type": "code",
     "collapsed": false,
     "input": [
      "val = []\n",
      "count = []\n",
      "\n",
      "set_num_tags = num_tags['n'].unique()\n",
      "\n",
      "for num in set_num_tags:\n",
      "    count_tags = num_tags[ num_tags['n'] == num ].shape[0]\n",
      "    val.append(num)\n",
      "    count.append(count_tags)\n",
      "    \n",
      "val = np.array(val)\n",
      "count = np.array(count)"
     ],
     "language": "python",
     "metadata": {},
     "outputs": [],
     "prompt_number": 5
    },
    {
     "cell_type": "code",
     "collapsed": false,
     "input": [
      "plt.title('The distribution of the number of tags per question')\n",
      "plt.xticks(np.arange(min(val), max(val), 1) )\n",
      "plt.xlim([min(val) - .5, max(val) + .5])\n",
      "plt.bar(val, count)"
     ],
     "language": "python",
     "metadata": {},
     "outputs": [
      {
       "metadata": {},
       "output_type": "pyout",
       "prompt_number": 12,
       "text": [
        "<Container object of 15 artists>"
       ]
      },
      {
       "metadata": {},
       "output_type": "display_data",
       "png": "[encoded data removed]",
       "text": [
        "<matplotlib.figure.Figure at 0x7f7e30d8a410>"
       ]
      }
     ],
     "prompt_number": 12
    },
    {
     "cell_type": "code",
     "collapsed": false,
     "input": [
      "pop_tags = {}\n",
      "\n",
      "\n",
      "for i in range(len(questions_all)):\n",
      "    tags = ast.literal_eval(questions_all[i][1])\n",
      "    \n",
      "    for tag in tags: \n",
      "        if tag in pop_tags:\n",
      "            pop_tags[tag] += 1\n",
      "        else:\n",
      "            pop_tags[tag] = 1"
     ],
     "language": "python",
     "metadata": {},
     "outputs": [],
     "prompt_number": 86
    },
    {
     "cell_type": "code",
     "collapsed": false,
     "input": [
      "df = pd.DataFrame({'frequency': pop_tags.values()}, index = pop_tags.keys())"
     ],
     "language": "python",
     "metadata": {},
     "outputs": [],
     "prompt_number": 104
    },
    {
     "cell_type": "code",
     "collapsed": false,
     "input": [
      "df.head(4)"
     ],
     "language": "python",
     "metadata": {},
     "outputs": [
      {
       "html": [
        "<div style=\"max-height:1000px;max-width:1500px;overflow:auto;\">\n",
        "<table border=\"1\" class=\"dataframe\">\n",
        "  <thead>\n",
        "    <tr style=\"text-align: right;\">\n",
        "      <th></th>\n",
        "      <th>frequency</th>\n",
        "    </tr>\n",
        "  </thead>\n",
        "  <tbody>\n",
        "    <tr>\n",
        "      <th>differential equations</th>\n",
        "      <td> 417</td>\n",
        "    </tr>\n",
        "    <tr>\n",
        "      <th>water tank</th>\n",
        "      <td>   1</td>\n",
        "    </tr>\n",
        "    <tr>\n",
        "      <th>partial derivative</th>\n",
        "      <td>  14</td>\n",
        "    </tr>\n",
        "    <tr>\n",
        "      <th>two-dimensional</th>\n",
        "      <td>   6</td>\n",
        "    </tr>\n",
        "  </tbody>\n",
        "</table>\n",
        "</div>"
       ],
       "metadata": {},
       "output_type": "pyout",
       "prompt_number": 105,
       "text": [
        "                        frequency\n",
        "differential equations        417\n",
        "water tank                      1\n",
        "partial derivative             14\n",
        "two-dimensional                 6"
       ]
      }
     ],
     "prompt_number": 105
    },
    {
     "cell_type": "code",
     "collapsed": false,
     "input": [
      "top_20 = df.sort(['frequency'], ascending = False).head(20)"
     ],
     "language": "python",
     "metadata": {},
     "outputs": [],
     "prompt_number": 110
    },
    {
     "cell_type": "code",
     "collapsed": false,
     "input": [
      "top_20_tags = top_20.index\n",
      "top_20_freq = top_20.values"
     ],
     "language": "python",
     "metadata": {},
     "outputs": [],
     "prompt_number": 113
    },
    {
     "cell_type": "code",
     "collapsed": false,
     "input": [
      "index = np.arange(20)\n",
      "plt.title('Top 20 question tags')\n",
      "plt.ylabel('Number of questions labeled by tag')\n",
      "plt.xlim([-.5, 20.5])\n",
      "plt.xticks(index+.2, top_20_tags, rotation=70)\n",
      "plt.bar(index, top_20_freq)"
     ],
     "language": "python",
     "metadata": {},
     "outputs": [
      {
       "metadata": {},
       "output_type": "pyout",
       "prompt_number": 132,
       "text": [
        "<Container object of 20 artists>"
       ]
      },
      {
       "metadata": {},
       "output_type": "display_data",
       "png": "[encoded data removed]",
       "text": [
        "<matplotlib.figure.Figure at 0x7f406c6bb950>"
       ]
      }
     ],
     "prompt_number": 132
    },
    {
     "cell_type": "code",
     "collapsed": false,
     "input": [
      "rest = df.sort(['frequency'], ascending = False).iloc[20:]\n",
      "\n",
      "rest.sum()"
     ],
     "language": "python",
     "metadata": {},
     "outputs": [
      {
       "metadata": {},
       "output_type": "pyout",
       "prompt_number": 134,
       "text": [
        "frequency    33941\n",
        "dtype: int64"
       ]
      }
     ],
     "prompt_number": 134
    },
    {
     "cell_type": "code",
     "collapsed": false,
     "input": [
      "top_20_tag_count = top_20.sum()[0]\n",
      "rest_count = rest.sum()[0]"
     ],
     "language": "python",
     "metadata": {},
     "outputs": [],
     "prompt_number": 137
    },
    {
     "cell_type": "code",
     "collapsed": false,
     "input": [
      "bar_width = .5\n",
      "\n",
      "plt.title('Frequencies of top 20 tags vs remaining tags')\n",
      "plt.ylabel('Tota Frequencies')\n",
      "plt.xlim([0,2.5])\n",
      "plt.xticks((.75,1.75), ('Top 20 tags', 'Remaining Tags'))\n",
      "plt.bar(.5, top_20_tag_count, bar_width)\n",
      "plt.bar(1.5, rest_count, bar_width, color='maroon')"
     ],
     "language": "python",
     "metadata": {},
     "outputs": [
      {
       "metadata": {},
       "output_type": "pyout",
       "prompt_number": 164,
       "text": [
        "<Container object of 1 artists>"
       ]
      },
      {
       "metadata": {},
       "output_type": "display_data",
       "png": "[encoded data removed]",
       "text": [
        "<matplotlib.figure.Figure at 0x7f406b14e410>"
       ]
      }
     ],
     "prompt_number": 164
    },
    {
     "cell_type": "code",
     "collapsed": false,
     "input": [],
     "language": "python",
     "metadata": {},
     "outputs": []
    }
   ],
   "metadata": {}
  }
 ]
}